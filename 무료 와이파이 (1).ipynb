{
 "cells": [
  {
   "cell_type": "code",
   "execution_count": 279,
   "id": "8d782c5e",
   "metadata": {},
   "outputs": [
    {
     "data": {
      "text/plain": [
       "<AxesSubplot:title={'center':'한글폰트 설정'}>"
      ]
     },
     "execution_count": 279,
     "metadata": {},
     "output_type": "execute_result"
    },
    {
     "data": {
      "image/png": "[encoded data removed]",
      "text/plain": [
       "<Figure size 432x288 with 1 Axes>"
      ]
     },
     "metadata": {
      "needs_background": "light"
     },
     "output_type": "display_data"
    }
   ],
   "source": [
    "import pandas as pd\n",
    "import seaborn as sns\n",
    "import matplotlib.pyplot as plt\n",
    "import numpy as np\n",
    "\n",
    "plt.rc(\"font\", family='Malgun Gothic')\n",
    "plt.rc('axes', unicode_minus=False)\n",
    "\n",
    "pd.Series([-4,1,0,3,4,5]).plot(title='한글폰트 설정')"
   ]
  },
  {
   "cell_type": "code",
   "execution_count": 280,
   "id": "a6126db9",
   "metadata": {},
   "outputs": [],
   "source": [
    "# 데이터 출처: https://www.data.go.kr/data/15013116/standard.do\n",
    "\n",
    "df= pd.read_csv('C:/Users/zhddl/data/전국무료와이파이표준데이터.csv', encoding='CP949')"
   ]
  },
  {
   "cell_type": "markdown",
   "id": "6f554fb7",
   "metadata": {},
   "source": [
    "# 데이터 확인"
   ]
  },
  {
   "cell_type": "code",
   "execution_count": 281,
   "id": "02a53ebc",
   "metadata": {},
   "outputs": [
    {
     "data": {
      "text/html": [
       "<div>\n",
       "<style scoped>\n",
       "    .dataframe tbody tr th:only-of-type {\n",
       "        vertical-align: middle;\n",
       "    }\n",
       "\n",
       "    .dataframe tbody tr th {\n",
       "        vertical-align: top;\n",
       "    }\n",
       "\n",
       "    .dataframe thead th {\n",
       "        text-align: right;\n",
       "    }\n",
       "</style>\n",
       "<table border=\"1\" class=\"dataframe\">\n",
       "  <thead>\n",
       "    <tr style=\"text-align: right;\">\n",
       "      <th></th>\n",
       "      <th>설치장소명</th>\n",
       "      <th>설치장소상세</th>\n",
       "      <th>설치시도명</th>\n",
       "      <th>설치시군구명</th>\n",
       "      <th>설치시설구분</th>\n",
       "      <th>서비스제공사명</th>\n",
       "      <th>와이파이SSID</th>\n",
       "      <th>설치년월</th>\n",
       "      <th>소재지도로명주소</th>\n",
       "      <th>소재지지번주소</th>\n",
       "      <th>관리기관명</th>\n",
       "      <th>관리기관전화번호</th>\n",
       "      <th>위도</th>\n",
       "      <th>경도</th>\n",
       "      <th>데이터기준일자</th>\n",
       "      <th>제공기관코드</th>\n",
       "      <th>제공기관명</th>\n",
       "    </tr>\n",
       "  </thead>\n",
       "  <tbody>\n",
       "    <tr>\n",
       "      <th>0</th>\n",
       "      <td>천지연 공영주차장1-1</td>\n",
       "      <td>천정-동</td>\n",
       "      <td>제주특별자치도</td>\n",
       "      <td>서귀포시</td>\n",
       "      <td>편의시설</td>\n",
       "      <td>KT</td>\n",
       "      <td>Jeju Free WiFI</td>\n",
       "      <td>NaN</td>\n",
       "      <td>제주특별자치도 서귀포시 서문로 16</td>\n",
       "      <td>제주특별자치도 서귀포시 서귀동 305-1</td>\n",
       "      <td>정보정책과</td>\n",
       "      <td>064-710-2352</td>\n",
       "      <td>33.251523</td>\n",
       "      <td>126.559351</td>\n",
       "      <td>2020-10-28</td>\n",
       "      <td>6500000</td>\n",
       "      <td>제주특별자치도</td>\n",
       "    </tr>\n",
       "    <tr>\n",
       "      <th>1</th>\n",
       "      <td>천지연 공영주차장1-2</td>\n",
       "      <td>천정-남</td>\n",
       "      <td>제주특별자치도</td>\n",
       "      <td>서귀포시</td>\n",
       "      <td>편의시설</td>\n",
       "      <td>KT</td>\n",
       "      <td>Jeju Free WiFI</td>\n",
       "      <td>NaN</td>\n",
       "      <td>제주특별자치도 서귀포시 서문로 16</td>\n",
       "      <td>제주특별자치도 서귀포시 서귀동 305-1</td>\n",
       "      <td>정보정책과</td>\n",
       "      <td>064-710-2352</td>\n",
       "      <td>33.251523</td>\n",
       "      <td>126.559351</td>\n",
       "      <td>2020-10-28</td>\n",
       "      <td>6500000</td>\n",
       "      <td>제주특별자치도</td>\n",
       "    </tr>\n",
       "    <tr>\n",
       "      <th>2</th>\n",
       "      <td>천지동자원순환센터 (아랑조을거리입구 서 )1-1</td>\n",
       "      <td>천지동 재활용지원센터 옆 KT주-동남</td>\n",
       "      <td>제주특별자치도</td>\n",
       "      <td>서귀포시</td>\n",
       "      <td>교통시설</td>\n",
       "      <td>KT</td>\n",
       "      <td>Jeju Free WiFI</td>\n",
       "      <td>NaN</td>\n",
       "      <td>NaN</td>\n",
       "      <td>제주특별자치도 서귀포시 서귀동 305-23</td>\n",
       "      <td>정보정책과</td>\n",
       "      <td>064-710-2352</td>\n",
       "      <td>33.251395</td>\n",
       "      <td>126.559516</td>\n",
       "      <td>2020-10-28</td>\n",
       "      <td>6500000</td>\n",
       "      <td>제주특별자치도</td>\n",
       "    </tr>\n",
       "    <tr>\n",
       "      <th>3</th>\n",
       "      <td>천지동자원순환센터 (아랑조을거리입구 서 )1-2</td>\n",
       "      <td>천지동 재활용지원센터 옆 KT주-남서</td>\n",
       "      <td>제주특별자치도</td>\n",
       "      <td>서귀포시</td>\n",
       "      <td>교통시설</td>\n",
       "      <td>KT</td>\n",
       "      <td>Jeju Free WiFI</td>\n",
       "      <td>NaN</td>\n",
       "      <td>NaN</td>\n",
       "      <td>제주특별자치도 서귀포시 서귀동 305-23</td>\n",
       "      <td>정보정책과</td>\n",
       "      <td>064-710-2352</td>\n",
       "      <td>33.251395</td>\n",
       "      <td>126.559516</td>\n",
       "      <td>2020-10-28</td>\n",
       "      <td>6500000</td>\n",
       "      <td>제주특별자치도</td>\n",
       "    </tr>\n",
       "    <tr>\n",
       "      <th>4</th>\n",
       "      <td>아랑조을거리2-1</td>\n",
       "      <td>CCTV 폴 상부 서</td>\n",
       "      <td>제주특별자치도</td>\n",
       "      <td>서귀포시</td>\n",
       "      <td>관광</td>\n",
       "      <td>KT</td>\n",
       "      <td>Jeju Free WiFI</td>\n",
       "      <td>NaN</td>\n",
       "      <td>제주특별자치도 서귀포시 중앙로59번길 16</td>\n",
       "      <td>제주특별자치도 서귀포시 서귀동 308-10</td>\n",
       "      <td>정보정책과</td>\n",
       "      <td>064-710-2352</td>\n",
       "      <td>33.249872</td>\n",
       "      <td>126.559884</td>\n",
       "      <td>2020-10-28</td>\n",
       "      <td>6500000</td>\n",
       "      <td>제주특별자치도</td>\n",
       "    </tr>\n",
       "  </tbody>\n",
       "</table>\n",
       "</div>"
      ],
      "text/plain": [
       "                        설치장소명                설치장소상세    설치시도명 설치시군구명 설치시설구분  \\\n",
       "0                천지연 공영주차장1-1                  천정-동  제주특별자치도   서귀포시   편의시설   \n",
       "1                천지연 공영주차장1-2                  천정-남  제주특별자치도   서귀포시   편의시설   \n",
       "2  천지동자원순환센터 (아랑조을거리입구 서 )1-1  천지동 재활용지원센터 옆 KT주-동남  제주특별자치도   서귀포시   교통시설   \n",
       "3  천지동자원순환센터 (아랑조을거리입구 서 )1-2  천지동 재활용지원센터 옆 KT주-남서  제주특별자치도   서귀포시   교통시설   \n",
       "4                   아랑조을거리2-1           CCTV 폴 상부 서  제주특별자치도   서귀포시     관광   \n",
       "\n",
       "  서비스제공사명        와이파이SSID 설치년월                 소재지도로명주소  \\\n",
       "0      KT  Jeju Free WiFI  NaN      제주특별자치도 서귀포시 서문로 16   \n",
       "1      KT  Jeju Free WiFI  NaN      제주특별자치도 서귀포시 서문로 16   \n",
       "2      KT  Jeju Free WiFI  NaN                      NaN   \n",
       "3      KT  Jeju Free WiFI  NaN                      NaN   \n",
       "4      KT  Jeju Free WiFI  NaN  제주특별자치도 서귀포시 중앙로59번길 16   \n",
       "\n",
       "                   소재지지번주소  관리기관명      관리기관전화번호         위도          경도  \\\n",
       "0   제주특별자치도 서귀포시 서귀동 305-1  정보정책과  064-710-2352  33.251523  126.559351   \n",
       "1   제주특별자치도 서귀포시 서귀동 305-1  정보정책과  064-710-2352  33.251523  126.559351   \n",
       "2  제주특별자치도 서귀포시 서귀동 305-23  정보정책과  064-710-2352  33.251395  126.559516   \n",
       "3  제주특별자치도 서귀포시 서귀동 305-23  정보정책과  064-710-2352  33.251395  126.559516   \n",
       "4  제주특별자치도 서귀포시 서귀동 308-10  정보정책과  064-710-2352  33.249872  126.559884   \n",
       "\n",
       "      데이터기준일자   제공기관코드    제공기관명  \n",
       "0  2020-10-28  6500000  제주특별자치도  \n",
       "1  2020-10-28  6500000  제주특별자치도  \n",
       "2  2020-10-28  6500000  제주특별자치도  \n",
       "3  2020-10-28  6500000  제주특별자치도  \n",
       "4  2020-10-28  6500000  제주특별자치도  "
      ]
     },
     "execution_count": 281,
     "metadata": {},
     "output_type": "execute_result"
    }
   ],
   "source": [
    "df.head()"
   ]
  },
  {
   "cell_type": "code",
   "execution_count": 282,
   "id": "61b6a245",
   "metadata": {},
   "outputs": [
    {
     "data": {
      "text/html": [
       "<div>\n",
       "<style scoped>\n",
       "    .dataframe tbody tr th:only-of-type {\n",
       "        vertical-align: middle;\n",
       "    }\n",
       "\n",
       "    .dataframe tbody tr th {\n",
       "        vertical-align: top;\n",
       "    }\n",
       "\n",
       "    .dataframe thead th {\n",
       "        text-align: right;\n",
       "    }\n",
       "</style>\n",
       "<table border=\"1\" class=\"dataframe\">\n",
       "  <thead>\n",
       "    <tr style=\"text-align: right;\">\n",
       "      <th></th>\n",
       "      <th>설치장소명</th>\n",
       "      <th>설치장소상세</th>\n",
       "      <th>설치시도명</th>\n",
       "      <th>설치시군구명</th>\n",
       "      <th>설치시설구분</th>\n",
       "      <th>서비스제공사명</th>\n",
       "      <th>와이파이SSID</th>\n",
       "      <th>설치년월</th>\n",
       "      <th>소재지도로명주소</th>\n",
       "      <th>소재지지번주소</th>\n",
       "      <th>관리기관명</th>\n",
       "      <th>관리기관전화번호</th>\n",
       "      <th>위도</th>\n",
       "      <th>경도</th>\n",
       "      <th>데이터기준일자</th>\n",
       "      <th>제공기관코드</th>\n",
       "      <th>제공기관명</th>\n",
       "    </tr>\n",
       "  </thead>\n",
       "  <tbody>\n",
       "    <tr>\n",
       "      <th>26133</th>\n",
       "      <td>천지연폭포＃4-1</td>\n",
       "      <td>폭포쪽 CCTV -동</td>\n",
       "      <td>제주특별자치도</td>\n",
       "      <td>서귀포시</td>\n",
       "      <td>관광</td>\n",
       "      <td>KT</td>\n",
       "      <td>Jeju Free WiFI</td>\n",
       "      <td>NaN</td>\n",
       "      <td>NaN</td>\n",
       "      <td>제주특별자치도 서귀포시 서귀동 809</td>\n",
       "      <td>정보정책과</td>\n",
       "      <td>064-710-2352</td>\n",
       "      <td>33.246478</td>\n",
       "      <td>126.556058</td>\n",
       "      <td>2020-10-28</td>\n",
       "      <td>6500000</td>\n",
       "      <td>제주특별자치도</td>\n",
       "    </tr>\n",
       "    <tr>\n",
       "      <th>26134</th>\n",
       "      <td>천지연폭포＃4-2</td>\n",
       "      <td>폭포쪽 CCTV -북</td>\n",
       "      <td>제주특별자치도</td>\n",
       "      <td>서귀포시</td>\n",
       "      <td>관광</td>\n",
       "      <td>KT</td>\n",
       "      <td>Jeju Free WiFI</td>\n",
       "      <td>NaN</td>\n",
       "      <td>NaN</td>\n",
       "      <td>제주특별자치도 서귀포시 서귀동 809</td>\n",
       "      <td>정보정책과</td>\n",
       "      <td>064-710-2352</td>\n",
       "      <td>33.246478</td>\n",
       "      <td>126.556058</td>\n",
       "      <td>2020-10-28</td>\n",
       "      <td>6500000</td>\n",
       "      <td>제주특별자치도</td>\n",
       "    </tr>\n",
       "    <tr>\n",
       "      <th>26135</th>\n",
       "      <td>작가의산책길(천지연기정길)1-1</td>\n",
       "      <td>IP주</td>\n",
       "      <td>제주특별자치도</td>\n",
       "      <td>서귀포시</td>\n",
       "      <td>관광</td>\n",
       "      <td>KT</td>\n",
       "      <td>Jeju Free WiFI</td>\n",
       "      <td>NaN</td>\n",
       "      <td>제주특별자치도 서귀포시 태평로 330</td>\n",
       "      <td>제주특별자치도 서귀포시 서귀동 810-1</td>\n",
       "      <td>정보정책과</td>\n",
       "      <td>064-710-2352</td>\n",
       "      <td>33.246822</td>\n",
       "      <td>126.556491</td>\n",
       "      <td>2020-10-28</td>\n",
       "      <td>6500000</td>\n",
       "      <td>제주특별자치도</td>\n",
       "    </tr>\n",
       "    <tr>\n",
       "      <th>26136</th>\n",
       "      <td>작가의산책길(천지연기정길)1-2</td>\n",
       "      <td>IP주</td>\n",
       "      <td>제주특별자치도</td>\n",
       "      <td>서귀포시</td>\n",
       "      <td>관광</td>\n",
       "      <td>KT</td>\n",
       "      <td>Jeju Free WiFI</td>\n",
       "      <td>NaN</td>\n",
       "      <td>제주특별자치도 서귀포시 태평로 330</td>\n",
       "      <td>제주특별자치도 서귀포시 서귀동 810-1</td>\n",
       "      <td>정보정책과</td>\n",
       "      <td>064-710-2352</td>\n",
       "      <td>33.246822</td>\n",
       "      <td>126.556491</td>\n",
       "      <td>2020-10-28</td>\n",
       "      <td>6500000</td>\n",
       "      <td>제주특별자치도</td>\n",
       "    </tr>\n",
       "    <tr>\n",
       "      <th>26137</th>\n",
       "      <td>작가의산책길(천지연기정길)1-3</td>\n",
       "      <td>화장실 외벽</td>\n",
       "      <td>제주특별자치도</td>\n",
       "      <td>서귀포시</td>\n",
       "      <td>관광</td>\n",
       "      <td>KT</td>\n",
       "      <td>Jeju Free WiFI</td>\n",
       "      <td>NaN</td>\n",
       "      <td>제주특별자치도 서귀포시 태평로 330</td>\n",
       "      <td>제주특별자치도 서귀포시 서귀동 810-1</td>\n",
       "      <td>정보정책과</td>\n",
       "      <td>064-710-2352</td>\n",
       "      <td>33.246822</td>\n",
       "      <td>126.556491</td>\n",
       "      <td>2020-10-28</td>\n",
       "      <td>6500000</td>\n",
       "      <td>제주특별자치도</td>\n",
       "    </tr>\n",
       "  </tbody>\n",
       "</table>\n",
       "</div>"
      ],
      "text/plain": [
       "                   설치장소명       설치장소상세    설치시도명 설치시군구명 설치시설구분 서비스제공사명  \\\n",
       "26133          천지연폭포＃4-1  폭포쪽 CCTV -동  제주특별자치도   서귀포시     관광      KT   \n",
       "26134          천지연폭포＃4-2  폭포쪽 CCTV -북  제주특별자치도   서귀포시     관광      KT   \n",
       "26135  작가의산책길(천지연기정길)1-1          IP주  제주특별자치도   서귀포시     관광      KT   \n",
       "26136  작가의산책길(천지연기정길)1-2          IP주  제주특별자치도   서귀포시     관광      KT   \n",
       "26137  작가의산책길(천지연기정길)1-3       화장실 외벽  제주특별자치도   서귀포시     관광      KT   \n",
       "\n",
       "             와이파이SSID 설치년월              소재지도로명주소                 소재지지번주소  \\\n",
       "26133  Jeju Free WiFI  NaN                   NaN    제주특별자치도 서귀포시 서귀동 809   \n",
       "26134  Jeju Free WiFI  NaN                   NaN    제주특별자치도 서귀포시 서귀동 809   \n",
       "26135  Jeju Free WiFI  NaN  제주특별자치도 서귀포시 태평로 330  제주특별자치도 서귀포시 서귀동 810-1   \n",
       "26136  Jeju Free WiFI  NaN  제주특별자치도 서귀포시 태평로 330  제주특별자치도 서귀포시 서귀동 810-1   \n",
       "26137  Jeju Free WiFI  NaN  제주특별자치도 서귀포시 태평로 330  제주특별자치도 서귀포시 서귀동 810-1   \n",
       "\n",
       "       관리기관명      관리기관전화번호         위도          경도     데이터기준일자   제공기관코드  \\\n",
       "26133  정보정책과  064-710-2352  33.246478  126.556058  2020-10-28  6500000   \n",
       "26134  정보정책과  064-710-2352  33.246478  126.556058  2020-10-28  6500000   \n",
       "26135  정보정책과  064-710-2352  33.246822  126.556491  2020-10-28  6500000   \n",
       "26136  정보정책과  064-710-2352  33.246822  126.556491  2020-10-28  6500000   \n",
       "26137  정보정책과  064-710-2352  33.246822  126.556491  2020-10-28  6500000   \n",
       "\n",
       "         제공기관명  \n",
       "26133  제주특별자치도  \n",
       "26134  제주특별자치도  \n",
       "26135  제주특별자치도  \n",
       "26136  제주특별자치도  \n",
       "26137  제주특별자치도  "
      ]
     },
     "execution_count": 282,
     "metadata": {},
     "output_type": "execute_result"
    }
   ],
   "source": [
    "df.tail()"
   ]
  },
  {
   "cell_type": "code",
   "execution_count": 283,
   "id": "9e1e202f",
   "metadata": {},
   "outputs": [
    {
     "name": "stdout",
     "output_type": "stream",
     "text": [
      "<class 'pandas.core.frame.DataFrame'>\n",
      "RangeIndex: 26138 entries, 0 to 26137\n",
      "Data columns (total 17 columns):\n",
      " #   Column    Non-Null Count  Dtype  \n",
      "---  ------    --------------  -----  \n",
      " 0   설치장소명     26138 non-null  object \n",
      " 1   설치장소상세    26138 non-null  object \n",
      " 2   설치시도명     26138 non-null  object \n",
      " 3   설치시군구명    26138 non-null  object \n",
      " 4   설치시설구분    26138 non-null  object \n",
      " 5   서비스제공사명   26138 non-null  object \n",
      " 6   와이파이SSID  23367 non-null  object \n",
      " 7   설치년월      20652 non-null  object \n",
      " 8   소재지도로명주소  23942 non-null  object \n",
      " 9   소재지지번주소   21378 non-null  object \n",
      " 10  관리기관명     26138 non-null  object \n",
      " 11  관리기관전화번호  26138 non-null  object \n",
      " 12  위도        26005 non-null  float64\n",
      " 13  경도        26001 non-null  float64\n",
      " 14  데이터기준일자   26138 non-null  object \n",
      " 15  제공기관코드    26138 non-null  object \n",
      " 16  제공기관명     26138 non-null  object \n",
      "dtypes: float64(2), object(15)\n",
      "memory usage: 3.4+ MB\n"
     ]
    }
   ],
   "source": [
    "df.info()"
   ]
  },
  {
   "cell_type": "code",
   "execution_count": 284,
   "id": "93bea74c",
   "metadata": {},
   "outputs": [
    {
     "data": {
      "text/plain": [
       "설치장소명        object\n",
       "설치장소상세       object\n",
       "설치시도명        object\n",
       "설치시군구명       object\n",
       "설치시설구분       object\n",
       "서비스제공사명      object\n",
       "와이파이SSID     object\n",
       "설치년월         object\n",
       "소재지도로명주소     object\n",
       "소재지지번주소      object\n",
       "관리기관명        object\n",
       "관리기관전화번호     object\n",
       "위도          float64\n",
       "경도          float64\n",
       "데이터기준일자      object\n",
       "제공기관코드       object\n",
       "제공기관명        object\n",
       "dtype: object"
      ]
     },
     "execution_count": 284,
     "metadata": {},
     "output_type": "execute_result"
    }
   ],
   "source": [
    "df.dtypes"
   ]
  },
  {
   "cell_type": "code",
   "execution_count": 285,
   "id": "6bd2eef9",
   "metadata": {},
   "outputs": [
    {
     "data": {
      "text/plain": [
       "Index(['설치장소명', '설치장소상세', '설치시도명', '설치시군구명', '설치시설구분', '서비스제공사명', '와이파이SSID',\n",
       "       '설치년월', '소재지도로명주소', '소재지지번주소', '관리기관명', '관리기관전화번호', '위도', '경도',\n",
       "       '데이터기준일자', '제공기관코드', '제공기관명'],\n",
       "      dtype='object')"
      ]
     },
     "execution_count": 285,
     "metadata": {},
     "output_type": "execute_result"
    }
   ],
   "source": [
    "df.columns"
   ]
  },
  {
   "cell_type": "markdown",
   "id": "2a18f457",
   "metadata": {},
   "source": [
    "# 정리"
   ]
  },
  {
   "cell_type": "markdown",
   "id": "5c49dea5",
   "metadata": {},
   "source": [
    "## 결측치 확인 후, 제거"
   ]
  },
  {
   "cell_type": "code",
   "execution_count": 286,
   "id": "fe6d066e",
   "metadata": {},
   "outputs": [
    {
     "data": {
      "text/plain": [
       "설치장소명          0\n",
       "설치장소상세         0\n",
       "설치시도명          0\n",
       "설치시군구명         0\n",
       "설치시설구분         0\n",
       "서비스제공사명        0\n",
       "와이파이SSID    2771\n",
       "설치년월        5486\n",
       "소재지도로명주소    2196\n",
       "소재지지번주소     4760\n",
       "관리기관명          0\n",
       "관리기관전화번호       0\n",
       "위도           133\n",
       "경도           137\n",
       "데이터기준일자        0\n",
       "제공기관코드         0\n",
       "제공기관명          0\n",
       "dtype: int64"
      ]
     },
     "execution_count": 286,
     "metadata": {},
     "output_type": "execute_result"
    }
   ],
   "source": [
    "df.isnull().sum()"
   ]
  },
  {
   "cell_type": "code",
   "execution_count": 287,
   "id": "ec668558",
   "metadata": {},
   "outputs": [
    {
     "data": {
      "text/html": [
       "<div>\n",
       "<style scoped>\n",
       "    .dataframe tbody tr th:only-of-type {\n",
       "        vertical-align: middle;\n",
       "    }\n",
       "\n",
       "    .dataframe tbody tr th {\n",
       "        vertical-align: top;\n",
       "    }\n",
       "\n",
       "    .dataframe thead th {\n",
       "        text-align: right;\n",
       "    }\n",
       "</style>\n",
       "<table border=\"1\" class=\"dataframe\">\n",
       "  <thead>\n",
       "    <tr style=\"text-align: right;\">\n",
       "      <th></th>\n",
       "      <th>설치장소명</th>\n",
       "      <th>설치장소상세</th>\n",
       "      <th>설치시도명</th>\n",
       "      <th>설치시군구명</th>\n",
       "      <th>설치시설구분</th>\n",
       "      <th>서비스제공사명</th>\n",
       "      <th>와이파이SSID</th>\n",
       "      <th>소재지도로명주소</th>\n",
       "      <th>소재지지번주소</th>\n",
       "      <th>관리기관명</th>\n",
       "      <th>관리기관전화번호</th>\n",
       "      <th>위도</th>\n",
       "      <th>경도</th>\n",
       "      <th>데이터기준일자</th>\n",
       "      <th>제공기관코드</th>\n",
       "      <th>제공기관명</th>\n",
       "    </tr>\n",
       "  </thead>\n",
       "  <tbody>\n",
       "    <tr>\n",
       "      <th>0</th>\n",
       "      <td>천지연 공영주차장1-1</td>\n",
       "      <td>천정-동</td>\n",
       "      <td>제주특별자치도</td>\n",
       "      <td>서귀포시</td>\n",
       "      <td>편의시설</td>\n",
       "      <td>KT</td>\n",
       "      <td>Jeju Free WiFI</td>\n",
       "      <td>제주특별자치도 서귀포시 서문로 16</td>\n",
       "      <td>제주특별자치도 서귀포시 서귀동 305-1</td>\n",
       "      <td>정보정책과</td>\n",
       "      <td>064-710-2352</td>\n",
       "      <td>33.251523</td>\n",
       "      <td>126.559351</td>\n",
       "      <td>2020-10-28</td>\n",
       "      <td>6500000</td>\n",
       "      <td>제주특별자치도</td>\n",
       "    </tr>\n",
       "    <tr>\n",
       "      <th>1</th>\n",
       "      <td>천지연 공영주차장1-2</td>\n",
       "      <td>천정-남</td>\n",
       "      <td>제주특별자치도</td>\n",
       "      <td>서귀포시</td>\n",
       "      <td>편의시설</td>\n",
       "      <td>KT</td>\n",
       "      <td>Jeju Free WiFI</td>\n",
       "      <td>제주특별자치도 서귀포시 서문로 16</td>\n",
       "      <td>제주특별자치도 서귀포시 서귀동 305-1</td>\n",
       "      <td>정보정책과</td>\n",
       "      <td>064-710-2352</td>\n",
       "      <td>33.251523</td>\n",
       "      <td>126.559351</td>\n",
       "      <td>2020-10-28</td>\n",
       "      <td>6500000</td>\n",
       "      <td>제주특별자치도</td>\n",
       "    </tr>\n",
       "    <tr>\n",
       "      <th>2</th>\n",
       "      <td>천지동자원순환센터 (아랑조을거리입구 서 )1-1</td>\n",
       "      <td>천지동 재활용지원센터 옆 KT주-동남</td>\n",
       "      <td>제주특별자치도</td>\n",
       "      <td>서귀포시</td>\n",
       "      <td>교통시설</td>\n",
       "      <td>KT</td>\n",
       "      <td>Jeju Free WiFI</td>\n",
       "      <td>NaN</td>\n",
       "      <td>제주특별자치도 서귀포시 서귀동 305-23</td>\n",
       "      <td>정보정책과</td>\n",
       "      <td>064-710-2352</td>\n",
       "      <td>33.251395</td>\n",
       "      <td>126.559516</td>\n",
       "      <td>2020-10-28</td>\n",
       "      <td>6500000</td>\n",
       "      <td>제주특별자치도</td>\n",
       "    </tr>\n",
       "    <tr>\n",
       "      <th>3</th>\n",
       "      <td>천지동자원순환센터 (아랑조을거리입구 서 )1-2</td>\n",
       "      <td>천지동 재활용지원센터 옆 KT주-남서</td>\n",
       "      <td>제주특별자치도</td>\n",
       "      <td>서귀포시</td>\n",
       "      <td>교통시설</td>\n",
       "      <td>KT</td>\n",
       "      <td>Jeju Free WiFI</td>\n",
       "      <td>NaN</td>\n",
       "      <td>제주특별자치도 서귀포시 서귀동 305-23</td>\n",
       "      <td>정보정책과</td>\n",
       "      <td>064-710-2352</td>\n",
       "      <td>33.251395</td>\n",
       "      <td>126.559516</td>\n",
       "      <td>2020-10-28</td>\n",
       "      <td>6500000</td>\n",
       "      <td>제주특별자치도</td>\n",
       "    </tr>\n",
       "    <tr>\n",
       "      <th>4</th>\n",
       "      <td>아랑조을거리2-1</td>\n",
       "      <td>CCTV 폴 상부 서</td>\n",
       "      <td>제주특별자치도</td>\n",
       "      <td>서귀포시</td>\n",
       "      <td>관광</td>\n",
       "      <td>KT</td>\n",
       "      <td>Jeju Free WiFI</td>\n",
       "      <td>제주특별자치도 서귀포시 중앙로59번길 16</td>\n",
       "      <td>제주특별자치도 서귀포시 서귀동 308-10</td>\n",
       "      <td>정보정책과</td>\n",
       "      <td>064-710-2352</td>\n",
       "      <td>33.249872</td>\n",
       "      <td>126.559884</td>\n",
       "      <td>2020-10-28</td>\n",
       "      <td>6500000</td>\n",
       "      <td>제주특별자치도</td>\n",
       "    </tr>\n",
       "    <tr>\n",
       "      <th>...</th>\n",
       "      <td>...</td>\n",
       "      <td>...</td>\n",
       "      <td>...</td>\n",
       "      <td>...</td>\n",
       "      <td>...</td>\n",
       "      <td>...</td>\n",
       "      <td>...</td>\n",
       "      <td>...</td>\n",
       "      <td>...</td>\n",
       "      <td>...</td>\n",
       "      <td>...</td>\n",
       "      <td>...</td>\n",
       "      <td>...</td>\n",
       "      <td>...</td>\n",
       "      <td>...</td>\n",
       "      <td>...</td>\n",
       "    </tr>\n",
       "    <tr>\n",
       "      <th>26133</th>\n",
       "      <td>천지연폭포＃4-1</td>\n",
       "      <td>폭포쪽 CCTV -동</td>\n",
       "      <td>제주특별자치도</td>\n",
       "      <td>서귀포시</td>\n",
       "      <td>관광</td>\n",
       "      <td>KT</td>\n",
       "      <td>Jeju Free WiFI</td>\n",
       "      <td>NaN</td>\n",
       "      <td>제주특별자치도 서귀포시 서귀동 809</td>\n",
       "      <td>정보정책과</td>\n",
       "      <td>064-710-2352</td>\n",
       "      <td>33.246478</td>\n",
       "      <td>126.556058</td>\n",
       "      <td>2020-10-28</td>\n",
       "      <td>6500000</td>\n",
       "      <td>제주특별자치도</td>\n",
       "    </tr>\n",
       "    <tr>\n",
       "      <th>26134</th>\n",
       "      <td>천지연폭포＃4-2</td>\n",
       "      <td>폭포쪽 CCTV -북</td>\n",
       "      <td>제주특별자치도</td>\n",
       "      <td>서귀포시</td>\n",
       "      <td>관광</td>\n",
       "      <td>KT</td>\n",
       "      <td>Jeju Free WiFI</td>\n",
       "      <td>NaN</td>\n",
       "      <td>제주특별자치도 서귀포시 서귀동 809</td>\n",
       "      <td>정보정책과</td>\n",
       "      <td>064-710-2352</td>\n",
       "      <td>33.246478</td>\n",
       "      <td>126.556058</td>\n",
       "      <td>2020-10-28</td>\n",
       "      <td>6500000</td>\n",
       "      <td>제주특별자치도</td>\n",
       "    </tr>\n",
       "    <tr>\n",
       "      <th>26135</th>\n",
       "      <td>작가의산책길(천지연기정길)1-1</td>\n",
       "      <td>IP주</td>\n",
       "      <td>제주특별자치도</td>\n",
       "      <td>서귀포시</td>\n",
       "      <td>관광</td>\n",
       "      <td>KT</td>\n",
       "      <td>Jeju Free WiFI</td>\n",
       "      <td>제주특별자치도 서귀포시 태평로 330</td>\n",
       "      <td>제주특별자치도 서귀포시 서귀동 810-1</td>\n",
       "      <td>정보정책과</td>\n",
       "      <td>064-710-2352</td>\n",
       "      <td>33.246822</td>\n",
       "      <td>126.556491</td>\n",
       "      <td>2020-10-28</td>\n",
       "      <td>6500000</td>\n",
       "      <td>제주특별자치도</td>\n",
       "    </tr>\n",
       "    <tr>\n",
       "      <th>26136</th>\n",
       "      <td>작가의산책길(천지연기정길)1-2</td>\n",
       "      <td>IP주</td>\n",
       "      <td>제주특별자치도</td>\n",
       "      <td>서귀포시</td>\n",
       "      <td>관광</td>\n",
       "      <td>KT</td>\n",
       "      <td>Jeju Free WiFI</td>\n",
       "      <td>제주특별자치도 서귀포시 태평로 330</td>\n",
       "      <td>제주특별자치도 서귀포시 서귀동 810-1</td>\n",
       "      <td>정보정책과</td>\n",
       "      <td>064-710-2352</td>\n",
       "      <td>33.246822</td>\n",
       "      <td>126.556491</td>\n",
       "      <td>2020-10-28</td>\n",
       "      <td>6500000</td>\n",
       "      <td>제주특별자치도</td>\n",
       "    </tr>\n",
       "    <tr>\n",
       "      <th>26137</th>\n",
       "      <td>작가의산책길(천지연기정길)1-3</td>\n",
       "      <td>화장실 외벽</td>\n",
       "      <td>제주특별자치도</td>\n",
       "      <td>서귀포시</td>\n",
       "      <td>관광</td>\n",
       "      <td>KT</td>\n",
       "      <td>Jeju Free WiFI</td>\n",
       "      <td>제주특별자치도 서귀포시 태평로 330</td>\n",
       "      <td>제주특별자치도 서귀포시 서귀동 810-1</td>\n",
       "      <td>정보정책과</td>\n",
       "      <td>064-710-2352</td>\n",
       "      <td>33.246822</td>\n",
       "      <td>126.556491</td>\n",
       "      <td>2020-10-28</td>\n",
       "      <td>6500000</td>\n",
       "      <td>제주특별자치도</td>\n",
       "    </tr>\n",
       "  </tbody>\n",
       "</table>\n",
       "<p>26138 rows × 16 columns</p>\n",
       "</div>"
      ],
      "text/plain": [
       "                            설치장소명                설치장소상세    설치시도명 설치시군구명  \\\n",
       "0                    천지연 공영주차장1-1                  천정-동  제주특별자치도   서귀포시   \n",
       "1                    천지연 공영주차장1-2                  천정-남  제주특별자치도   서귀포시   \n",
       "2      천지동자원순환센터 (아랑조을거리입구 서 )1-1  천지동 재활용지원센터 옆 KT주-동남  제주특별자치도   서귀포시   \n",
       "3      천지동자원순환센터 (아랑조을거리입구 서 )1-2  천지동 재활용지원센터 옆 KT주-남서  제주특별자치도   서귀포시   \n",
       "4                       아랑조을거리2-1           CCTV 폴 상부 서  제주특별자치도   서귀포시   \n",
       "...                           ...                   ...      ...    ...   \n",
       "26133                   천지연폭포＃4-1           폭포쪽 CCTV -동  제주특별자치도   서귀포시   \n",
       "26134                   천지연폭포＃4-2           폭포쪽 CCTV -북  제주특별자치도   서귀포시   \n",
       "26135           작가의산책길(천지연기정길)1-1                   IP주  제주특별자치도   서귀포시   \n",
       "26136           작가의산책길(천지연기정길)1-2                   IP주  제주특별자치도   서귀포시   \n",
       "26137           작가의산책길(천지연기정길)1-3                화장실 외벽  제주특별자치도   서귀포시   \n",
       "\n",
       "      설치시설구분 서비스제공사명        와이파이SSID                 소재지도로명주소  \\\n",
       "0       편의시설      KT  Jeju Free WiFI      제주특별자치도 서귀포시 서문로 16   \n",
       "1       편의시설      KT  Jeju Free WiFI      제주특별자치도 서귀포시 서문로 16   \n",
       "2       교통시설      KT  Jeju Free WiFI                      NaN   \n",
       "3       교통시설      KT  Jeju Free WiFI                      NaN   \n",
       "4         관광      KT  Jeju Free WiFI  제주특별자치도 서귀포시 중앙로59번길 16   \n",
       "...      ...     ...             ...                      ...   \n",
       "26133     관광      KT  Jeju Free WiFI                      NaN   \n",
       "26134     관광      KT  Jeju Free WiFI                      NaN   \n",
       "26135     관광      KT  Jeju Free WiFI     제주특별자치도 서귀포시 태평로 330   \n",
       "26136     관광      KT  Jeju Free WiFI     제주특별자치도 서귀포시 태평로 330   \n",
       "26137     관광      KT  Jeju Free WiFI     제주특별자치도 서귀포시 태평로 330   \n",
       "\n",
       "                       소재지지번주소  관리기관명      관리기관전화번호         위도          경도  \\\n",
       "0       제주특별자치도 서귀포시 서귀동 305-1  정보정책과  064-710-2352  33.251523  126.559351   \n",
       "1       제주특별자치도 서귀포시 서귀동 305-1  정보정책과  064-710-2352  33.251523  126.559351   \n",
       "2      제주특별자치도 서귀포시 서귀동 305-23  정보정책과  064-710-2352  33.251395  126.559516   \n",
       "3      제주특별자치도 서귀포시 서귀동 305-23  정보정책과  064-710-2352  33.251395  126.559516   \n",
       "4      제주특별자치도 서귀포시 서귀동 308-10  정보정책과  064-710-2352  33.249872  126.559884   \n",
       "...                        ...    ...           ...        ...         ...   \n",
       "26133     제주특별자치도 서귀포시 서귀동 809  정보정책과  064-710-2352  33.246478  126.556058   \n",
       "26134     제주특별자치도 서귀포시 서귀동 809  정보정책과  064-710-2352  33.246478  126.556058   \n",
       "26135   제주특별자치도 서귀포시 서귀동 810-1  정보정책과  064-710-2352  33.246822  126.556491   \n",
       "26136   제주특별자치도 서귀포시 서귀동 810-1  정보정책과  064-710-2352  33.246822  126.556491   \n",
       "26137   제주특별자치도 서귀포시 서귀동 810-1  정보정책과  064-710-2352  33.246822  126.556491   \n",
       "\n",
       "          데이터기준일자   제공기관코드    제공기관명  \n",
       "0      2020-10-28  6500000  제주특별자치도  \n",
       "1      2020-10-28  6500000  제주특별자치도  \n",
       "2      2020-10-28  6500000  제주특별자치도  \n",
       "3      2020-10-28  6500000  제주특별자치도  \n",
       "4      2020-10-28  6500000  제주특별자치도  \n",
       "...           ...      ...      ...  \n",
       "26133  2020-10-28  6500000  제주특별자치도  \n",
       "26134  2020-10-28  6500000  제주특별자치도  \n",
       "26135  2020-10-28  6500000  제주특별자치도  \n",
       "26136  2020-10-28  6500000  제주특별자치도  \n",
       "26137  2020-10-28  6500000  제주특별자치도  \n",
       "\n",
       "[26138 rows x 16 columns]"
      ]
     },
     "execution_count": 287,
     "metadata": {},
     "output_type": "execute_result"
    }
   ],
   "source": [
    "# 결측치가 많은 컬럼 제거\n",
    "\n",
    "df=df.drop(['설치년월'],axis=1)\n",
    "df"
   ]
  },
  {
   "cell_type": "markdown",
   "id": "45e73c6e",
   "metadata": {},
   "source": [
    "## 사용하지 않는 컬럼 제거"
   ]
  },
  {
   "cell_type": "code",
   "execution_count": 288,
   "id": "a226d214",
   "metadata": {},
   "outputs": [
    {
     "data": {
      "text/html": [
       "<div>\n",
       "<style scoped>\n",
       "    .dataframe tbody tr th:only-of-type {\n",
       "        vertical-align: middle;\n",
       "    }\n",
       "\n",
       "    .dataframe tbody tr th {\n",
       "        vertical-align: top;\n",
       "    }\n",
       "\n",
       "    .dataframe thead th {\n",
       "        text-align: right;\n",
       "    }\n",
       "</style>\n",
       "<table border=\"1\" class=\"dataframe\">\n",
       "  <thead>\n",
       "    <tr style=\"text-align: right;\">\n",
       "      <th></th>\n",
       "      <th>설치장소명</th>\n",
       "      <th>설치장소상세</th>\n",
       "      <th>설치시도명</th>\n",
       "      <th>설치시군구명</th>\n",
       "      <th>설치시설구분</th>\n",
       "      <th>서비스제공사명</th>\n",
       "      <th>와이파이SSID</th>\n",
       "      <th>소재지도로명주소</th>\n",
       "      <th>소재지지번주소</th>\n",
       "      <th>관리기관명</th>\n",
       "      <th>위도</th>\n",
       "      <th>경도</th>\n",
       "      <th>데이터기준일자</th>\n",
       "      <th>제공기관명</th>\n",
       "    </tr>\n",
       "  </thead>\n",
       "  <tbody>\n",
       "    <tr>\n",
       "      <th>0</th>\n",
       "      <td>천지연 공영주차장1-1</td>\n",
       "      <td>천정-동</td>\n",
       "      <td>제주특별자치도</td>\n",
       "      <td>서귀포시</td>\n",
       "      <td>편의시설</td>\n",
       "      <td>KT</td>\n",
       "      <td>Jeju Free WiFI</td>\n",
       "      <td>제주특별자치도 서귀포시 서문로 16</td>\n",
       "      <td>제주특별자치도 서귀포시 서귀동 305-1</td>\n",
       "      <td>정보정책과</td>\n",
       "      <td>33.251523</td>\n",
       "      <td>126.559351</td>\n",
       "      <td>2020-10-28</td>\n",
       "      <td>제주특별자치도</td>\n",
       "    </tr>\n",
       "    <tr>\n",
       "      <th>1</th>\n",
       "      <td>천지연 공영주차장1-2</td>\n",
       "      <td>천정-남</td>\n",
       "      <td>제주특별자치도</td>\n",
       "      <td>서귀포시</td>\n",
       "      <td>편의시설</td>\n",
       "      <td>KT</td>\n",
       "      <td>Jeju Free WiFI</td>\n",
       "      <td>제주특별자치도 서귀포시 서문로 16</td>\n",
       "      <td>제주특별자치도 서귀포시 서귀동 305-1</td>\n",
       "      <td>정보정책과</td>\n",
       "      <td>33.251523</td>\n",
       "      <td>126.559351</td>\n",
       "      <td>2020-10-28</td>\n",
       "      <td>제주특별자치도</td>\n",
       "    </tr>\n",
       "    <tr>\n",
       "      <th>2</th>\n",
       "      <td>천지동자원순환센터 (아랑조을거리입구 서 )1-1</td>\n",
       "      <td>천지동 재활용지원센터 옆 KT주-동남</td>\n",
       "      <td>제주특별자치도</td>\n",
       "      <td>서귀포시</td>\n",
       "      <td>교통시설</td>\n",
       "      <td>KT</td>\n",
       "      <td>Jeju Free WiFI</td>\n",
       "      <td>NaN</td>\n",
       "      <td>제주특별자치도 서귀포시 서귀동 305-23</td>\n",
       "      <td>정보정책과</td>\n",
       "      <td>33.251395</td>\n",
       "      <td>126.559516</td>\n",
       "      <td>2020-10-28</td>\n",
       "      <td>제주특별자치도</td>\n",
       "    </tr>\n",
       "    <tr>\n",
       "      <th>3</th>\n",
       "      <td>천지동자원순환센터 (아랑조을거리입구 서 )1-2</td>\n",
       "      <td>천지동 재활용지원센터 옆 KT주-남서</td>\n",
       "      <td>제주특별자치도</td>\n",
       "      <td>서귀포시</td>\n",
       "      <td>교통시설</td>\n",
       "      <td>KT</td>\n",
       "      <td>Jeju Free WiFI</td>\n",
       "      <td>NaN</td>\n",
       "      <td>제주특별자치도 서귀포시 서귀동 305-23</td>\n",
       "      <td>정보정책과</td>\n",
       "      <td>33.251395</td>\n",
       "      <td>126.559516</td>\n",
       "      <td>2020-10-28</td>\n",
       "      <td>제주특별자치도</td>\n",
       "    </tr>\n",
       "    <tr>\n",
       "      <th>4</th>\n",
       "      <td>아랑조을거리2-1</td>\n",
       "      <td>CCTV 폴 상부 서</td>\n",
       "      <td>제주특별자치도</td>\n",
       "      <td>서귀포시</td>\n",
       "      <td>관광</td>\n",
       "      <td>KT</td>\n",
       "      <td>Jeju Free WiFI</td>\n",
       "      <td>제주특별자치도 서귀포시 중앙로59번길 16</td>\n",
       "      <td>제주특별자치도 서귀포시 서귀동 308-10</td>\n",
       "      <td>정보정책과</td>\n",
       "      <td>33.249872</td>\n",
       "      <td>126.559884</td>\n",
       "      <td>2020-10-28</td>\n",
       "      <td>제주특별자치도</td>\n",
       "    </tr>\n",
       "    <tr>\n",
       "      <th>...</th>\n",
       "      <td>...</td>\n",
       "      <td>...</td>\n",
       "      <td>...</td>\n",
       "      <td>...</td>\n",
       "      <td>...</td>\n",
       "      <td>...</td>\n",
       "      <td>...</td>\n",
       "      <td>...</td>\n",
       "      <td>...</td>\n",
       "      <td>...</td>\n",
       "      <td>...</td>\n",
       "      <td>...</td>\n",
       "      <td>...</td>\n",
       "      <td>...</td>\n",
       "    </tr>\n",
       "    <tr>\n",
       "      <th>26133</th>\n",
       "      <td>천지연폭포＃4-1</td>\n",
       "      <td>폭포쪽 CCTV -동</td>\n",
       "      <td>제주특별자치도</td>\n",
       "      <td>서귀포시</td>\n",
       "      <td>관광</td>\n",
       "      <td>KT</td>\n",
       "      <td>Jeju Free WiFI</td>\n",
       "      <td>NaN</td>\n",
       "      <td>제주특별자치도 서귀포시 서귀동 809</td>\n",
       "      <td>정보정책과</td>\n",
       "      <td>33.246478</td>\n",
       "      <td>126.556058</td>\n",
       "      <td>2020-10-28</td>\n",
       "      <td>제주특별자치도</td>\n",
       "    </tr>\n",
       "    <tr>\n",
       "      <th>26134</th>\n",
       "      <td>천지연폭포＃4-2</td>\n",
       "      <td>폭포쪽 CCTV -북</td>\n",
       "      <td>제주특별자치도</td>\n",
       "      <td>서귀포시</td>\n",
       "      <td>관광</td>\n",
       "      <td>KT</td>\n",
       "      <td>Jeju Free WiFI</td>\n",
       "      <td>NaN</td>\n",
       "      <td>제주특별자치도 서귀포시 서귀동 809</td>\n",
       "      <td>정보정책과</td>\n",
       "      <td>33.246478</td>\n",
       "      <td>126.556058</td>\n",
       "      <td>2020-10-28</td>\n",
       "      <td>제주특별자치도</td>\n",
       "    </tr>\n",
       "    <tr>\n",
       "      <th>26135</th>\n",
       "      <td>작가의산책길(천지연기정길)1-1</td>\n",
       "      <td>IP주</td>\n",
       "      <td>제주특별자치도</td>\n",
       "      <td>서귀포시</td>\n",
       "      <td>관광</td>\n",
       "      <td>KT</td>\n",
       "      <td>Jeju Free WiFI</td>\n",
       "      <td>제주특별자치도 서귀포시 태평로 330</td>\n",
       "      <td>제주특별자치도 서귀포시 서귀동 810-1</td>\n",
       "      <td>정보정책과</td>\n",
       "      <td>33.246822</td>\n",
       "      <td>126.556491</td>\n",
       "      <td>2020-10-28</td>\n",
       "      <td>제주특별자치도</td>\n",
       "    </tr>\n",
       "    <tr>\n",
       "      <th>26136</th>\n",
       "      <td>작가의산책길(천지연기정길)1-2</td>\n",
       "      <td>IP주</td>\n",
       "      <td>제주특별자치도</td>\n",
       "      <td>서귀포시</td>\n",
       "      <td>관광</td>\n",
       "      <td>KT</td>\n",
       "      <td>Jeju Free WiFI</td>\n",
       "      <td>제주특별자치도 서귀포시 태평로 330</td>\n",
       "      <td>제주특별자치도 서귀포시 서귀동 810-1</td>\n",
       "      <td>정보정책과</td>\n",
       "      <td>33.246822</td>\n",
       "      <td>126.556491</td>\n",
       "      <td>2020-10-28</td>\n",
       "      <td>제주특별자치도</td>\n",
       "    </tr>\n",
       "    <tr>\n",
       "      <th>26137</th>\n",
       "      <td>작가의산책길(천지연기정길)1-3</td>\n",
       "      <td>화장실 외벽</td>\n",
       "      <td>제주특별자치도</td>\n",
       "      <td>서귀포시</td>\n",
       "      <td>관광</td>\n",
       "      <td>KT</td>\n",
       "      <td>Jeju Free WiFI</td>\n",
       "      <td>제주특별자치도 서귀포시 태평로 330</td>\n",
       "      <td>제주특별자치도 서귀포시 서귀동 810-1</td>\n",
       "      <td>정보정책과</td>\n",
       "      <td>33.246822</td>\n",
       "      <td>126.556491</td>\n",
       "      <td>2020-10-28</td>\n",
       "      <td>제주특별자치도</td>\n",
       "    </tr>\n",
       "  </tbody>\n",
       "</table>\n",
       "<p>26138 rows × 14 columns</p>\n",
       "</div>"
      ],
      "text/plain": [
       "                            설치장소명                설치장소상세    설치시도명 설치시군구명  \\\n",
       "0                    천지연 공영주차장1-1                  천정-동  제주특별자치도   서귀포시   \n",
       "1                    천지연 공영주차장1-2                  천정-남  제주특별자치도   서귀포시   \n",
       "2      천지동자원순환센터 (아랑조을거리입구 서 )1-1  천지동 재활용지원센터 옆 KT주-동남  제주특별자치도   서귀포시   \n",
       "3      천지동자원순환센터 (아랑조을거리입구 서 )1-2  천지동 재활용지원센터 옆 KT주-남서  제주특별자치도   서귀포시   \n",
       "4                       아랑조을거리2-1           CCTV 폴 상부 서  제주특별자치도   서귀포시   \n",
       "...                           ...                   ...      ...    ...   \n",
       "26133                   천지연폭포＃4-1           폭포쪽 CCTV -동  제주특별자치도   서귀포시   \n",
       "26134                   천지연폭포＃4-2           폭포쪽 CCTV -북  제주특별자치도   서귀포시   \n",
       "26135           작가의산책길(천지연기정길)1-1                   IP주  제주특별자치도   서귀포시   \n",
       "26136           작가의산책길(천지연기정길)1-2                   IP주  제주특별자치도   서귀포시   \n",
       "26137           작가의산책길(천지연기정길)1-3                화장실 외벽  제주특별자치도   서귀포시   \n",
       "\n",
       "      설치시설구분 서비스제공사명        와이파이SSID                 소재지도로명주소  \\\n",
       "0       편의시설      KT  Jeju Free WiFI      제주특별자치도 서귀포시 서문로 16   \n",
       "1       편의시설      KT  Jeju Free WiFI      제주특별자치도 서귀포시 서문로 16   \n",
       "2       교통시설      KT  Jeju Free WiFI                      NaN   \n",
       "3       교통시설      KT  Jeju Free WiFI                      NaN   \n",
       "4         관광      KT  Jeju Free WiFI  제주특별자치도 서귀포시 중앙로59번길 16   \n",
       "...      ...     ...             ...                      ...   \n",
       "26133     관광      KT  Jeju Free WiFI                      NaN   \n",
       "26134     관광      KT  Jeju Free WiFI                      NaN   \n",
       "26135     관광      KT  Jeju Free WiFI     제주특별자치도 서귀포시 태평로 330   \n",
       "26136     관광      KT  Jeju Free WiFI     제주특별자치도 서귀포시 태평로 330   \n",
       "26137     관광      KT  Jeju Free WiFI     제주특별자치도 서귀포시 태평로 330   \n",
       "\n",
       "                       소재지지번주소  관리기관명         위도          경도     데이터기준일자  \\\n",
       "0       제주특별자치도 서귀포시 서귀동 305-1  정보정책과  33.251523  126.559351  2020-10-28   \n",
       "1       제주특별자치도 서귀포시 서귀동 305-1  정보정책과  33.251523  126.559351  2020-10-28   \n",
       "2      제주특별자치도 서귀포시 서귀동 305-23  정보정책과  33.251395  126.559516  2020-10-28   \n",
       "3      제주특별자치도 서귀포시 서귀동 305-23  정보정책과  33.251395  126.559516  2020-10-28   \n",
       "4      제주특별자치도 서귀포시 서귀동 308-10  정보정책과  33.249872  126.559884  2020-10-28   \n",
       "...                        ...    ...        ...         ...         ...   \n",
       "26133     제주특별자치도 서귀포시 서귀동 809  정보정책과  33.246478  126.556058  2020-10-28   \n",
       "26134     제주특별자치도 서귀포시 서귀동 809  정보정책과  33.246478  126.556058  2020-10-28   \n",
       "26135   제주특별자치도 서귀포시 서귀동 810-1  정보정책과  33.246822  126.556491  2020-10-28   \n",
       "26136   제주특별자치도 서귀포시 서귀동 810-1  정보정책과  33.246822  126.556491  2020-10-28   \n",
       "26137   제주특별자치도 서귀포시 서귀동 810-1  정보정책과  33.246822  126.556491  2020-10-28   \n",
       "\n",
       "         제공기관명  \n",
       "0      제주특별자치도  \n",
       "1      제주특별자치도  \n",
       "2      제주특별자치도  \n",
       "3      제주특별자치도  \n",
       "4      제주특별자치도  \n",
       "...        ...  \n",
       "26133  제주특별자치도  \n",
       "26134  제주특별자치도  \n",
       "26135  제주특별자치도  \n",
       "26136  제주특별자치도  \n",
       "26137  제주특별자치도  \n",
       "\n",
       "[26138 rows x 14 columns]"
      ]
     },
     "execution_count": 288,
     "metadata": {},
     "output_type": "execute_result"
    }
   ],
   "source": [
    "df=df.drop(['관리기관전화번호','제공기관코드'], axis=1)\n",
    "df"
   ]
  },
  {
   "cell_type": "markdown",
   "id": "1fae3f7a",
   "metadata": {},
   "source": [
    "# 요약하고 확인"
   ]
  },
  {
   "cell_type": "code",
   "execution_count": 289,
   "id": "7bfec9c4",
   "metadata": {},
   "outputs": [
    {
     "data": {
      "text/plain": [
       "count     26138\n",
       "unique       17\n",
       "top       서울특별시\n",
       "freq       5235\n",
       "Name: 설치시도명, dtype: object"
      ]
     },
     "execution_count": 289,
     "metadata": {},
     "output_type": "execute_result"
    }
   ],
   "source": [
    "df['설치시도명'].describe()"
   ]
  },
  {
   "cell_type": "code",
   "execution_count": 290,
   "id": "67cd0175",
   "metadata": {},
   "outputs": [
    {
     "data": {
      "text/plain": [
       "count     26138\n",
       "unique      168\n",
       "top          KT\n",
       "freq       9135\n",
       "Name: 서비스제공사명, dtype: object"
      ]
     },
     "execution_count": 290,
     "metadata": {},
     "output_type": "execute_result"
    }
   ],
   "source": [
    "df['서비스제공사명'].describe()"
   ]
  },
  {
   "cell_type": "code",
   "execution_count": 291,
   "id": "a89f0393",
   "metadata": {},
   "outputs": [
    {
     "data": {
      "text/plain": [
       "부산광역시             929\n",
       "서울시               654\n",
       "광주광역시청            598\n",
       "경상북도 경주시청         541\n",
       "충청북도 청주시청         500\n",
       "                 ... \n",
       "고창고인돌(하)휴게소         1\n",
       "송동면사무소              1\n",
       "부안보건지소              1\n",
       "전라북도 고창군 민원봉사과      1\n",
       "죽전직업재활원             1\n",
       "Name: 관리기관명, Length: 765, dtype: int64"
      ]
     },
     "execution_count": 291,
     "metadata": {},
     "output_type": "execute_result"
    }
   ],
   "source": [
    "df['관리기관명'].value_counts()"
   ]
  },
  {
   "cell_type": "code",
   "execution_count": 292,
   "id": "83236775",
   "metadata": {},
   "outputs": [
    {
     "data": {
      "text/plain": [
       "관공서           8941\n",
       "서민·복지시설       3784\n",
       "기타            3082\n",
       "교통시설          2815\n",
       "관광            2325\n",
       "편의시설          2154\n",
       "지역문화시설        1837\n",
       "교육시설           321\n",
       "공원             156\n",
       "버스정류장          144\n",
       "주요거리           110\n",
       "서민/복지시설         67\n",
       "관광지             62\n",
       "다중이용시설          47\n",
       "복지센터등           41\n",
       "버스              37\n",
       "공공기관            33\n",
       "문화관광            32\n",
       "전통시장            27\n",
       "정류장             16\n",
       "보건지소            14\n",
       "행정복지센터          13\n",
       "보건소             10\n",
       "민원실              9\n",
       "시장               7\n",
       "보건진료소            6\n",
       "관광시설             5\n",
       "복지시설             5\n",
       "노인정              4\n",
       "공원내              4\n",
       "버스승차대            4\n",
       "공공도서관            4\n",
       "문화체육시설           3\n",
       "주민자치센터           3\n",
       "서민복지시설           2\n",
       "휴게실              2\n",
       "공공(일반)           2\n",
       " 서민·복지시설         1\n",
       "읍/면/동 주민센터       1\n",
       "관광지역             1\n",
       "종합복지시설           1\n",
       "박물관              1\n",
       "도서관              1\n",
       "쉼터               1\n",
       "노인복지회관           1\n",
       "버스터미널            1\n",
       "터미널              1\n",
       "Name: 설치시설구분, dtype: int64"
      ]
     },
     "execution_count": 292,
     "metadata": {},
     "output_type": "execute_result"
    }
   ],
   "source": [
    "df['설치시설구분'].value_counts()"
   ]
  },
  {
   "cell_type": "code",
   "execution_count": 293,
   "id": "edef55f1",
   "metadata": {},
   "outputs": [
    {
     "data": {
      "text/plain": [
       "KT           9135\n",
       "SKT          3806\n",
       "LGU+         3128\n",
       "경상북도 경주시청     541\n",
       "서울특별시 강서구     500\n",
       "             ... \n",
       "경기도광명시          1\n",
       "나주공공도서관         1\n",
       "KT/LGU+         1\n",
       "KT/LG U+        1\n",
       "광주도시관리공사        1\n",
       "Name: 서비스제공사명, Length: 168, dtype: int64"
      ]
     },
     "execution_count": 293,
     "metadata": {},
     "output_type": "execute_result"
    }
   ],
   "source": [
    "df['서비스제공사명'].value_counts()"
   ]
  },
  {
   "cell_type": "markdown",
   "id": "610f7c7c",
   "metadata": {},
   "source": [
    "# 시각화"
   ]
  },
  {
   "cell_type": "code",
   "execution_count": 294,
   "id": "c90d28d0",
   "metadata": {},
   "outputs": [],
   "source": [
    "# 좀 더 보기 편한 게 뭐 없을까 찾다가 plotly를 사용했습니다.\n",
    "# 본래 pyecharts를 사용하고 싶었으나, \n",
    "\n",
    "import plotly.express as px\n",
    "import plotly.offline as pyo\n",
    "import plotly.graph_objs as go"
   ]
  },
  {
   "cell_type": "code",
   "execution_count": 368,
   "id": "95071211",
   "metadata": {},
   "outputs": [
    {
     "data": {
      "text/plain": [
       "<AxesSubplot:xlabel='설치시도명', ylabel='count'>"
      ]
     },
     "execution_count": 368,
     "metadata": {},
     "output_type": "execute_result"
    },
    {
     "data": {
      "image/png": "[encoded data removed]",
      "text/plain": [
       "<Figure size 1440x288 with 1 Axes>"
      ]
     },
     "metadata": {
      "needs_background": "light"
     },
     "output_type": "display_data"
    }
   ],
   "source": [
    "# 양이 너무 많아 plotly를 사용하면 로딩이 길어 seaborn 사용. 둘이 번갈아가면서 사용해야될 것 같다.\n",
    "plt.figure(figsize=(20,4))\n",
    "sns.countplot(data=df,x='설치시도명')"
   ]
  },
  {
   "cell_type": "code",
   "execution_count": null,
   "id": "12341203",
   "metadata": {},
   "outputs": [],
   "source": [
    "# 어디에 설치가 많이 되어 있을까?"
   ]
  },
  {
   "cell_type": "markdown",
   "id": "03fb5557",
   "metadata": {},
   "source": [
    "## 서비스제공사명 구분"
   ]
  },
  {
   "cell_type": "code",
   "execution_count": 296,
   "id": "970c9c11",
   "metadata": {},
   "outputs": [
    {
     "data": {
      "text/plain": [
       "KT      9135\n",
       "SKT     3806\n",
       "LGU+    3128\n",
       "Name: 서비스제공사명, dtype: int64"
      ]
     },
     "execution_count": 296,
     "metadata": {},
     "output_type": "execute_result"
    }
   ],
   "source": [
    "#인지도가 높은 SKT,KT,LGU+ 가 지역별 어떻게 분포되어 있는지 확인한다.\n",
    "df_t1= df[df['서비스제공사명']== ('KT')]\n",
    "df_t2= df_t1.append(df[df['서비스제공사명']== ('SKT')])\n",
    "df_t3= df_t2.append(df[df['서비스제공사명']== ('LGU+')])\n",
    "df_t3['서비스제공사명'].value_counts()"
   ]
  },
  {
   "cell_type": "code",
   "execution_count": 297,
   "id": "2f2c3cab",
   "metadata": {},
   "outputs": [
    {
     "data": {
      "text/plain": [
       "설치시도명      강원도강원도강원도경기도경기도경기도경상남도경상남도경상남도경상북도경상북도경상북도광주광역...\n",
       "서비스제공사명    KTLGU+SKTKTLGU+SKTKTLGU+SKTKTLGU+SKTKTLGU+SKTK...\n",
       "수                                                      16069\n",
       "dtype: object"
      ]
     },
     "execution_count": 297,
     "metadata": {},
     "output_type": "execute_result"
    }
   ],
   "source": [
    "tel3= df_t3.groupby(['설치시도명','서비스제공사명'])['설치장소상세'].count()\n",
    "n= tel3.reset_index()\n",
    "tel3= n.rename(columns={'설치장소상세':'수'})\n",
    "tel3.sum()"
   ]
  },
  {
   "cell_type": "code",
   "execution_count": 332,
   "id": "1f343adc",
   "metadata": {},
   "outputs": [],
   "source": [
    "tel3_c= df.groupby(['서비스제공사명'])['설치장소상세'].count()\n",
    "n= tel3_c.reset_index()\n",
    "tel3_c= n.rename(columns={'설치장소상세':'수'})\n",
    "tel3_c= tel3_c.sort_values(by=['수'], axis=0,ascending=False)\n",
    "tel_10=tel3_c[:10]"
   ]
  },
  {
   "cell_type": "code",
   "execution_count": null,
   "id": "674ead95",
   "metadata": {},
   "outputs": [],
   "source": [
    "plt.figure(figsize=(20,4))\n",
    "sns.countplot(data=df_tel,x='설치시도명')"
   ]
  },
  {
   "cell_type": "code",
   "execution_count": 373,
   "id": "9945b639",
   "metadata": {
    "scrolled": true
   },
   "outputs": [
    {
     "data": {
      "text/plain": [
       "<AxesSubplot:xlabel='서비스제공사명', ylabel='count'>"
      ]
     },
     "execution_count": 373,
     "metadata": {},
     "output_type": "execute_result"
    },
    {
     "data": {
      "image/png": "[encoded data removed]",
      "text/plain": [
       "<Figure size 432x288 with 1 Axes>"
      ]
     },
     "metadata": {
      "needs_background": "light"
     },
     "output_type": "display_data"
    }
   ],
   "source": [
    "sns.countplot(x ='서비스제공사명' , data = df_t3, color = 'red')"
   ]
  },
  {
   "cell_type": "code",
   "execution_count": 358,
   "id": "26131d7a",
   "metadata": {},
   "outputs": [
    {
     "data": {
      "application/vnd.plotly.v1+json": {
       "config": {
        "plotlyServerURL": "https://plot.ly"
       },
       "data": [
        {
         "domain": {
          "x": [
           0,
           1
          ],
          "y": [
           0,
           1
          ]
         },
         "hovertemplate": "서비스제공사명=%{label}<br>수=%{value}<extra></extra>",
         "labels": [
          "KT",
          "LGU+",
          "SKT",
          "KT",
          "LGU+",
          "SKT",
          "KT",
          "LGU+",
          "SKT",
          "KT",
          "LGU+",
          "SKT",
          "KT",
          "LGU+",
          "SKT",
          "KT",
          "LGU+",
          "SKT",
          "KT",
          "LGU+",
          "SKT",
          "KT",
          "LGU+",
          "SKT",
          "KT",
          "LGU+",
          "SKT",
          "KT",
          "LGU+",
          "SKT",
          "KT",
          "LGU+",
          "SKT",
          "KT",
          "LGU+",
          "SKT",
          "KT",
          "LGU+",
          "SKT",
          "KT",
          "LGU+",
          "SKT",
          "KT",
          "KT",
          "LGU+",
          "SKT",
          "KT",
          "LGU+",
          "SKT"
         ],
         "legendgroup": "",
         "name": "",
         "showlegend": true,
         "type": "pie",
         "values": [
          1118,
          224,
          409,
          1017,
          254,
          205,
          457,
          125,
          156,
          527,
          126,
          192,
          330,
          333,
          321,
          276,
          251,
          202,
          120,
          86,
          84,
          473,
          341,
          435,
          157,
          174,
          300,
          67,
          54,
          56,
          185,
          136,
          176,
          748,
          438,
          406,
          1265,
          178,
          262,
          672,
          175,
          220,
          500,
          631,
          127,
          178,
          592,
          106,
          204
         ]
        }
       ],
       "layout": {
        "legend": {
         "tracegroupgap": 0
        },
        "template": {
         "data": {
          "bar": [
           {
            "error_x": {
             "color": "#2a3f5f"
            },
            "error_y": {
             "color": "#2a3f5f"
            },
            "marker": {
             "line": {
              "color": "#E5ECF6",
              "width": 0.5
             },
             "pattern": {
              "fillmode": "overlay",
              "size": 10,
              "solidity": 0.2
             }
            },
            "type": "bar"
           }
          ],
          "barpolar": [
           {
            "marker": {
             "line": {
              "color": "#E5ECF6",
              "width": 0.5
             },
             "pattern": {
              "fillmode": "overlay",
              "size": 10,
              "solidity": 0.2
             }
            },
            "type": "barpolar"
           }
          ],
          "carpet": [
           {
            "aaxis": {
             "endlinecolor": "#2a3f5f",
             "gridcolor": "white",
             "linecolor": "white",
             "minorgridcolor": "white",
             "startlinecolor": "#2a3f5f"
            },
            "baxis": {
             "endlinecolor": "#2a3f5f",
             "gridcolor": "white",
             "linecolor": "white",
             "minorgridcolor": "white",
             "startlinecolor": "#2a3f5f"
            },
            "type": "carpet"
           }
          ],
          "choropleth": [
           {
            "colorbar": {
             "outlinewidth": 0,
             "ticks": ""
            },
            "type": "choropleth"
           }
          ],
          "contour": [
           {
            "colorbar": {
             "outlinewidth": 0,
             "ticks": ""
            },
            "colorscale": [
             [
              0,
              "#0d0887"
             ],
             [
              0.1111111111111111,
              "#46039f"
             ],
             [
              0.2222222222222222,
              "#7201a8"
             ],
             [
              0.3333333333333333,
              "#9c179e"
             ],
             [
              0.4444444444444444,
              "#bd3786"
             ],
             [
              0.5555555555555556,
              "#d8576b"
             ],
             [
              0.6666666666666666,
              "#ed7953"
             ],
             [
              0.7777777777777778,
              "#fb9f3a"
             ],
             [
              0.8888888888888888,
              "#fdca26"
             ],
             [
              1,
              "#f0f921"
             ]
            ],
            "type": "contour"
           }
          ],
          "contourcarpet": [
           {
            "colorbar": {
             "outlinewidth": 0,
             "ticks": ""
            },
            "type": "contourcarpet"
           }
          ],
          "heatmap": [
           {
            "colorbar": {
             "outlinewidth": 0,
             "ticks": ""
            },
            "colorscale": [
             [
              0,
              "#0d0887"
             ],
             [
              0.1111111111111111,
              "#46039f"
             ],
             [
              0.2222222222222222,
              "#7201a8"
             ],
             [
              0.3333333333333333,
              "#9c179e"
             ],
             [
              0.4444444444444444,
              "#bd3786"
             ],
             [
              0.5555555555555556,
              "#d8576b"
             ],
             [
              0.6666666666666666,
              "#ed7953"
             ],
             [
              0.7777777777777778,
              "#fb9f3a"
             ],
             [
              0.8888888888888888,
              "#fdca26"
             ],
             [
              1,
              "#f0f921"
             ]
            ],
            "type": "heatmap"
           }
          ],
          "heatmapgl": [
           {
            "colorbar": {
             "outlinewidth": 0,
             "ticks": ""
            },
            "colorscale": [
             [
              0,
              "#0d0887"
             ],
             [
              0.1111111111111111,
              "#46039f"
             ],
             [
              0.2222222222222222,
              "#7201a8"
             ],
             [
              0.3333333333333333,
              "#9c179e"
             ],
             [
              0.4444444444444444,
              "#bd3786"
             ],
             [
              0.5555555555555556,
              "#d8576b"
             ],
             [
              0.6666666666666666,
              "#ed7953"
             ],
             [
              0.7777777777777778,
              "#fb9f3a"
             ],
             [
              0.8888888888888888,
              "#fdca26"
             ],
             [
              1,
              "#f0f921"
             ]
            ],
            "type": "heatmapgl"
           }
          ],
          "histogram": [
           {
            "marker": {
             "pattern": {
              "fillmode": "overlay",
              "size": 10,
              "solidity": 0.2
             }
            },
            "type": "histogram"
           }
          ],
          "histogram2d": [
           {
            "colorbar": {
             "outlinewidth": 0,
             "ticks": ""
            },
            "colorscale": [
             [
              0,
              "#0d0887"
             ],
             [
              0.1111111111111111,
              "#46039f"
             ],
             [
              0.2222222222222222,
              "#7201a8"
             ],
             [
              0.3333333333333333,
              "#9c179e"
             ],
             [
              0.4444444444444444,
              "#bd3786"
             ],
             [
              0.5555555555555556,
              "#d8576b"
             ],
             [
              0.6666666666666666,
              "#ed7953"
             ],
             [
              0.7777777777777778,
              "#fb9f3a"
             ],
             [
              0.8888888888888888,
              "#fdca26"
             ],
             [
              1,
              "#f0f921"
             ]
            ],
            "type": "histogram2d"
           }
          ],
          "histogram2dcontour": [
           {
            "colorbar": {
             "outlinewidth": 0,
             "ticks": ""
            },
            "colorscale": [
             [
              0,
              "#0d0887"
             ],
             [
              0.1111111111111111,
              "#46039f"
             ],
             [
              0.2222222222222222,
              "#7201a8"
             ],
             [
              0.3333333333333333,
              "#9c179e"
             ],
             [
              0.4444444444444444,
              "#bd3786"
             ],
             [
              0.5555555555555556,
              "#d8576b"
             ],
             [
              0.6666666666666666,
              "#ed7953"
             ],
             [
              0.7777777777777778,
              "#fb9f3a"
             ],
             [
              0.8888888888888888,
              "#fdca26"
             ],
             [
              1,
              "#f0f921"
             ]
            ],
            "type": "histogram2dcontour"
           }
          ],
          "mesh3d": [
           {
            "colorbar": {
             "outlinewidth": 0,
             "ticks": ""
            },
            "type": "mesh3d"
           }
          ],
          "parcoords": [
           {
            "line": {
             "colorbar": {
              "outlinewidth": 0,
              "ticks": ""
             }
            },
            "type": "parcoords"
           }
          ],
          "pie": [
           {
            "automargin": true,
            "type": "pie"
           }
          ],
          "scatter": [
           {
            "marker": {
             "colorbar": {
              "outlinewidth": 0,
              "ticks": ""
             }
            },
            "type": "scatter"
           }
          ],
          "scatter3d": [
           {
            "line": {
             "colorbar": {
              "outlinewidth": 0,
              "ticks": ""
             }
            },
            "marker": {
             "colorbar": {
              "outlinewidth": 0,
              "ticks": ""
             }
            },
            "type": "scatter3d"
           }
          ],
          "scattercarpet": [
           {
            "marker": {
             "colorbar": {
              "outlinewidth": 0,
              "ticks": ""
             }
            },
            "type": "scattercarpet"
           }
          ],
          "scattergeo": [
           {
            "marker": {
             "colorbar": {
              "outlinewidth": 0,
              "ticks": ""
             }
            },
            "type": "scattergeo"
           }
          ],
          "scattergl": [
           {
            "marker": {
             "colorbar": {
              "outlinewidth": 0,
              "ticks": ""
             }
            },
            "type": "scattergl"
           }
          ],
          "scattermapbox": [
           {
            "marker": {
             "colorbar": {
              "outlinewidth": 0,
              "ticks": ""
             }
            },
            "type": "scattermapbox"
           }
          ],
          "scatterpolar": [
           {
            "marker": {
             "colorbar": {
              "outlinewidth": 0,
              "ticks": ""
             }
            },
            "type": "scatterpolar"
           }
          ],
          "scatterpolargl": [
           {
            "marker": {
             "colorbar": {
              "outlinewidth": 0,
              "ticks": ""
             }
            },
            "type": "scatterpolargl"
           }
          ],
          "scatterternary": [
           {
            "marker": {
             "colorbar": {
              "outlinewidth": 0,
              "ticks": ""
             }
            },
            "type": "scatterternary"
           }
          ],
          "surface": [
           {
            "colorbar": {
             "outlinewidth": 0,
             "ticks": ""
            },
            "colorscale": [
             [
              0,
              "#0d0887"
             ],
             [
              0.1111111111111111,
              "#46039f"
             ],
             [
              0.2222222222222222,
              "#7201a8"
             ],
             [
              0.3333333333333333,
              "#9c179e"
             ],
             [
              0.4444444444444444,
              "#bd3786"
             ],
             [
              0.5555555555555556,
              "#d8576b"
             ],
             [
              0.6666666666666666,
              "#ed7953"
             ],
             [
              0.7777777777777778,
              "#fb9f3a"
             ],
             [
              0.8888888888888888,
              "#fdca26"
             ],
             [
              1,
              "#f0f921"
             ]
            ],
            "type": "surface"
           }
          ],
          "table": [
           {
            "cells": {
             "fill": {
              "color": "#EBF0F8"
             },
             "line": {
              "color": "white"
             }
            },
            "header": {
             "fill": {
              "color": "#C8D4E3"
             },
             "line": {
              "color": "white"
             }
            },
            "type": "table"
           }
          ]
         },
         "layout": {
          "annotationdefaults": {
           "arrowcolor": "#2a3f5f",
           "arrowhead": 0,
           "arrowwidth": 1
          },
          "autotypenumbers": "strict",
          "coloraxis": {
           "colorbar": {
            "outlinewidth": 0,
            "ticks": ""
           }
          },
          "colorscale": {
           "diverging": [
            [
             0,
             "#8e0152"
            ],
            [
             0.1,
             "#c51b7d"
            ],
            [
             0.2,
             "#de77ae"
            ],
            [
             0.3,
             "#f1b6da"
            ],
            [
             0.4,
             "#fde0ef"
            ],
            [
             0.5,
             "#f7f7f7"
            ],
            [
             0.6,
             "#e6f5d0"
            ],
            [
             0.7,
             "#b8e186"
            ],
            [
             0.8,
             "#7fbc41"
            ],
            [
             0.9,
             "#4d9221"
            ],
            [
             1,
             "#276419"
            ]
           ],
           "sequential": [
            [
             0,
             "#0d0887"
            ],
            [
             0.1111111111111111,
             "#46039f"
            ],
            [
             0.2222222222222222,
             "#7201a8"
            ],
            [
             0.3333333333333333,
             "#9c179e"
            ],
            [
             0.4444444444444444,
             "#bd3786"
            ],
            [
             0.5555555555555556,
             "#d8576b"
            ],
            [
             0.6666666666666666,
             "#ed7953"
            ],
            [
             0.7777777777777778,
             "#fb9f3a"
            ],
            [
             0.8888888888888888,
             "#fdca26"
            ],
            [
             1,
             "#f0f921"
            ]
           ],
           "sequentialminus": [
            [
             0,
             "#0d0887"
            ],
            [
             0.1111111111111111,
             "#46039f"
            ],
            [
             0.2222222222222222,
             "#7201a8"
            ],
            [
             0.3333333333333333,
             "#9c179e"
            ],
            [
             0.4444444444444444,
             "#bd3786"
            ],
            [
             0.5555555555555556,
             "#d8576b"
            ],
            [
             0.6666666666666666,
             "#ed7953"
            ],
            [
             0.7777777777777778,
             "#fb9f3a"
            ],
            [
             0.8888888888888888,
             "#fdca26"
            ],
            [
             1,
             "#f0f921"
            ]
           ]
          },
          "colorway": [
           "#636efa",
           "#EF553B",
           "#00cc96",
           "#ab63fa",
           "#FFA15A",
           "#19d3f3",
           "#FF6692",
           "#B6E880",
           "#FF97FF",
           "#FECB52"
          ],
          "font": {
           "color": "#2a3f5f"
          },
          "geo": {
           "bgcolor": "white",
           "lakecolor": "white",
           "landcolor": "#E5ECF6",
           "showlakes": true,
           "showland": true,
           "subunitcolor": "white"
          },
          "hoverlabel": {
           "align": "left"
          },
          "hovermode": "closest",
          "mapbox": {
           "style": "light"
          },
          "paper_bgcolor": "white",
          "plot_bgcolor": "#E5ECF6",
          "polar": {
           "angularaxis": {
            "gridcolor": "white",
            "linecolor": "white",
            "ticks": ""
           },
           "bgcolor": "#E5ECF6",
           "radialaxis": {
            "gridcolor": "white",
            "linecolor": "white",
            "ticks": ""
           }
          },
          "scene": {
           "xaxis": {
            "backgroundcolor": "#E5ECF6",
            "gridcolor": "white",
            "gridwidth": 2,
            "linecolor": "white",
            "showbackground": true,
            "ticks": "",
            "zerolinecolor": "white"
           },
           "yaxis": {
            "backgroundcolor": "#E5ECF6",
            "gridcolor": "white",
            "gridwidth": 2,
            "linecolor": "white",
            "showbackground": true,
            "ticks": "",
            "zerolinecolor": "white"
           },
           "zaxis": {
            "backgroundcolor": "#E5ECF6",
            "gridcolor": "white",
            "gridwidth": 2,
            "linecolor": "white",
            "showbackground": true,
            "ticks": "",
            "zerolinecolor": "white"
           }
          },
          "shapedefaults": {
           "line": {
            "color": "#2a3f5f"
           }
          },
          "ternary": {
           "aaxis": {
            "gridcolor": "white",
            "linecolor": "white",
            "ticks": ""
           },
           "baxis": {
            "gridcolor": "white",
            "linecolor": "white",
            "ticks": ""
           },
           "bgcolor": "#E5ECF6",
           "caxis": {
            "gridcolor": "white",
            "linecolor": "white",
            "ticks": ""
           }
          },
          "title": {
           "x": 0.05
          },
          "xaxis": {
           "automargin": true,
           "gridcolor": "white",
           "linecolor": "white",
           "ticks": "",
           "title": {
            "standoff": 15
           },
           "zerolinecolor": "white",
           "zerolinewidth": 2
          },
          "yaxis": {
           "automargin": true,
           "gridcolor": "white",
           "linecolor": "white",
           "ticks": "",
           "title": {
            "standoff": 15
           },
           "zerolinecolor": "white",
           "zerolinewidth": 2
          }
         }
        },
        "title": {
         "text": "3대 통신사의 무료 와이파이 서비스 제공 수"
        }
       }
      },
      "text/html": [
       "<div>                            <div id=\"d7be13e1-91d2-4bde-8c24-46ad3266dd8f\" class=\"plotly-graph-div\" style=\"height:525px; width:100%;\"></div>            <script type=\"text/javascript\">                require([\"plotly\"], function(Plotly) {                    window.PLOTLYENV=window.PLOTLYENV || {};                                    if (document.getElementById(\"d7be13e1-91d2-4bde-8c24-46ad3266dd8f\")) {                    Plotly.newPlot(                        \"d7be13e1-91d2-4bde-8c24-46ad3266dd8f\",                        [{\"domain\":{\"x\":[0.0,1.0],\"y\":[0.0,1.0]},\"hovertemplate\":\"\\uc11c\\ube44\\uc2a4\\uc81c\\uacf5\\uc0ac\\uba85=%{label}<br>\\uc218=%{value}<extra></extra>\",\"labels\":[\"KT\",\"LGU+\",\"SKT\",\"KT\",\"LGU+\",\"SKT\",\"KT\",\"LGU+\",\"SKT\",\"KT\",\"LGU+\",\"SKT\",\"KT\",\"LGU+\",\"SKT\",\"KT\",\"LGU+\",\"SKT\",\"KT\",\"LGU+\",\"SKT\",\"KT\",\"LGU+\",\"SKT\",\"KT\",\"LGU+\",\"SKT\",\"KT\",\"LGU+\",\"SKT\",\"KT\",\"LGU+\",\"SKT\",\"KT\",\"LGU+\",\"SKT\",\"KT\",\"LGU+\",\"SKT\",\"KT\",\"LGU+\",\"SKT\",\"KT\",\"KT\",\"LGU+\",\"SKT\",\"KT\",\"LGU+\",\"SKT\"],\"legendgroup\":\"\",\"name\":\"\",\"showlegend\":true,\"type\":\"pie\",\"values\":[1118,224,409,1017,254,205,457,125,156,527,126,192,330,333,321,276,251,202,120,86,84,473,341,435,157,174,300,67,54,56,185,136,176,748,438,406,1265,178,262,672,175,220,500,631,127,178,592,106,204]}],                        {\"legend\":{\"tracegroupgap\":0},\"template\":{\"data\":{\"bar\":[{\"error_x\":{\"color\":\"#2a3f5f\"},\"error_y\":{\"color\":\"#2a3f5f\"},\"marker\":{\"line\":{\"color\":\"#E5ECF6\",\"width\":0.5},\"pattern\":{\"fillmode\":\"overlay\",\"size\":10,\"solidity\":0.2}},\"type\":\"bar\"}],\"barpolar\":[{\"marker\":{\"line\":{\"color\":\"#E5ECF6\",\"width\":0.5},\"pattern\":{\"fillmode\":\"overlay\",\"size\":10,\"solidity\":0.2}},\"type\":\"barpolar\"}],\"carpet\":[{\"aaxis\":{\"endlinecolor\":\"#2a3f5f\",\"gridcolor\":\"white\",\"linecolor\":\"white\",\"minorgridcolor\":\"white\",\"startlinecolor\":\"#2a3f5f\"},\"baxis\":{\"endlinecolor\":\"#2a3f5f\",\"gridcolor\":\"white\",\"linecolor\":\"white\",\"minorgridcolor\":\"white\",\"startlinecolor\":\"#2a3f5f\"},\"type\":\"carpet\"}],\"choropleth\":[{\"colorbar\":{\"outlinewidth\":0,\"ticks\":\"\"},\"type\":\"choropleth\"}],\"contour\":[{\"colorbar\":{\"outlinewidth\":0,\"ticks\":\"\"},\"colorscale\":[[0.0,\"#0d0887\"],[0.1111111111111111,\"#46039f\"],[0.2222222222222222,\"#7201a8\"],[0.3333333333333333,\"#9c179e\"],[0.4444444444444444,\"#bd3786\"],[0.5555555555555556,\"#d8576b\"],[0.6666666666666666,\"#ed7953\"],[0.7777777777777778,\"#fb9f3a\"],[0.8888888888888888,\"#fdca26\"],[1.0,\"#f0f921\"]],\"type\":\"contour\"}],\"contourcarpet\":[{\"colorbar\":{\"outlinewidth\":0,\"ticks\":\"\"},\"type\":\"contourcarpet\"}],\"heatmap\":[{\"colorbar\":{\"outlinewidth\":0,\"ticks\":\"\"},\"colorscale\":[[0.0,\"#0d0887\"],[0.1111111111111111,\"#46039f\"],[0.2222222222222222,\"#7201a8\"],[0.3333333333333333,\"#9c179e\"],[0.4444444444444444,\"#bd3786\"],[0.5555555555555556,\"#d8576b\"],[0.6666666666666666,\"#ed7953\"],[0.7777777777777778,\"#fb9f3a\"],[0.8888888888888888,\"#fdca26\"],[1.0,\"#f0f921\"]],\"type\":\"heatmap\"}],\"heatmapgl\":[{\"colorbar\":{\"outlinewidth\":0,\"ticks\":\"\"},\"colorscale\":[[0.0,\"#0d0887\"],[0.1111111111111111,\"#46039f\"],[0.2222222222222222,\"#7201a8\"],[0.3333333333333333,\"#9c179e\"],[0.4444444444444444,\"#bd3786\"],[0.5555555555555556,\"#d8576b\"],[0.6666666666666666,\"#ed7953\"],[0.7777777777777778,\"#fb9f3a\"],[0.8888888888888888,\"#fdca26\"],[1.0,\"#f0f921\"]],\"type\":\"heatmapgl\"}],\"histogram\":[{\"marker\":{\"pattern\":{\"fillmode\":\"overlay\",\"size\":10,\"solidity\":0.2}},\"type\":\"histogram\"}],\"histogram2d\":[{\"colorbar\":{\"outlinewidth\":0,\"ticks\":\"\"},\"colorscale\":[[0.0,\"#0d0887\"],[0.1111111111111111,\"#46039f\"],[0.2222222222222222,\"#7201a8\"],[0.3333333333333333,\"#9c179e\"],[0.4444444444444444,\"#bd3786\"],[0.5555555555555556,\"#d8576b\"],[0.6666666666666666,\"#ed7953\"],[0.7777777777777778,\"#fb9f3a\"],[0.8888888888888888,\"#fdca26\"],[1.0,\"#f0f921\"]],\"type\":\"histogram2d\"}],\"histogram2dcontour\":[{\"colorbar\":{\"outlinewidth\":0,\"ticks\":\"\"},\"colorscale\":[[0.0,\"#0d0887\"],[0.1111111111111111,\"#46039f\"],[0.2222222222222222,\"#7201a8\"],[0.3333333333333333,\"#9c179e\"],[0.4444444444444444,\"#bd3786\"],[0.5555555555555556,\"#d8576b\"],[0.6666666666666666,\"#ed7953\"],[0.7777777777777778,\"#fb9f3a\"],[0.8888888888888888,\"#fdca26\"],[1.0,\"#f0f921\"]],\"type\":\"histogram2dcontour\"}],\"mesh3d\":[{\"colorbar\":{\"outlinewidth\":0,\"ticks\":\"\"},\"type\":\"mesh3d\"}],\"parcoords\":[{\"line\":{\"colorbar\":{\"outlinewidth\":0,\"ticks\":\"\"}},\"type\":\"parcoords\"}],\"pie\":[{\"automargin\":true,\"type\":\"pie\"}],\"scatter\":[{\"marker\":{\"colorbar\":{\"outlinewidth\":0,\"ticks\":\"\"}},\"type\":\"scatter\"}],\"scatter3d\":[{\"line\":{\"colorbar\":{\"outlinewidth\":0,\"ticks\":\"\"}},\"marker\":{\"colorbar\":{\"outlinewidth\":0,\"ticks\":\"\"}},\"type\":\"scatter3d\"}],\"scattercarpet\":[{\"marker\":{\"colorbar\":{\"outlinewidth\":0,\"ticks\":\"\"}},\"type\":\"scattercarpet\"}],\"scattergeo\":[{\"marker\":{\"colorbar\":{\"outlinewidth\":0,\"ticks\":\"\"}},\"type\":\"scattergeo\"}],\"scattergl\":[{\"marker\":{\"colorbar\":{\"outlinewidth\":0,\"ticks\":\"\"}},\"type\":\"scattergl\"}],\"scattermapbox\":[{\"marker\":{\"colorbar\":{\"outlinewidth\":0,\"ticks\":\"\"}},\"type\":\"scattermapbox\"}],\"scatterpolar\":[{\"marker\":{\"colorbar\":{\"outlinewidth\":0,\"ticks\":\"\"}},\"type\":\"scatterpolar\"}],\"scatterpolargl\":[{\"marker\":{\"colorbar\":{\"outlinewidth\":0,\"ticks\":\"\"}},\"type\":\"scatterpolargl\"}],\"scatterternary\":[{\"marker\":{\"colorbar\":{\"outlinewidth\":0,\"ticks\":\"\"}},\"type\":\"scatterternary\"}],\"surface\":[{\"colorbar\":{\"outlinewidth\":0,\"ticks\":\"\"},\"colorscale\":[[0.0,\"#0d0887\"],[0.1111111111111111,\"#46039f\"],[0.2222222222222222,\"#7201a8\"],[0.3333333333333333,\"#9c179e\"],[0.4444444444444444,\"#bd3786\"],[0.5555555555555556,\"#d8576b\"],[0.6666666666666666,\"#ed7953\"],[0.7777777777777778,\"#fb9f3a\"],[0.8888888888888888,\"#fdca26\"],[1.0,\"#f0f921\"]],\"type\":\"surface\"}],\"table\":[{\"cells\":{\"fill\":{\"color\":\"#EBF0F8\"},\"line\":{\"color\":\"white\"}},\"header\":{\"fill\":{\"color\":\"#C8D4E3\"},\"line\":{\"color\":\"white\"}},\"type\":\"table\"}]},\"layout\":{\"annotationdefaults\":{\"arrowcolor\":\"#2a3f5f\",\"arrowhead\":0,\"arrowwidth\":1},\"autotypenumbers\":\"strict\",\"coloraxis\":{\"colorbar\":{\"outlinewidth\":0,\"ticks\":\"\"}},\"colorscale\":{\"diverging\":[[0,\"#8e0152\"],[0.1,\"#c51b7d\"],[0.2,\"#de77ae\"],[0.3,\"#f1b6da\"],[0.4,\"#fde0ef\"],[0.5,\"#f7f7f7\"],[0.6,\"#e6f5d0\"],[0.7,\"#b8e186\"],[0.8,\"#7fbc41\"],[0.9,\"#4d9221\"],[1,\"#276419\"]],\"sequential\":[[0.0,\"#0d0887\"],[0.1111111111111111,\"#46039f\"],[0.2222222222222222,\"#7201a8\"],[0.3333333333333333,\"#9c179e\"],[0.4444444444444444,\"#bd3786\"],[0.5555555555555556,\"#d8576b\"],[0.6666666666666666,\"#ed7953\"],[0.7777777777777778,\"#fb9f3a\"],[0.8888888888888888,\"#fdca26\"],[1.0,\"#f0f921\"]],\"sequentialminus\":[[0.0,\"#0d0887\"],[0.1111111111111111,\"#46039f\"],[0.2222222222222222,\"#7201a8\"],[0.3333333333333333,\"#9c179e\"],[0.4444444444444444,\"#bd3786\"],[0.5555555555555556,\"#d8576b\"],[0.6666666666666666,\"#ed7953\"],[0.7777777777777778,\"#fb9f3a\"],[0.8888888888888888,\"#fdca26\"],[1.0,\"#f0f921\"]]},\"colorway\":[\"#636efa\",\"#EF553B\",\"#00cc96\",\"#ab63fa\",\"#FFA15A\",\"#19d3f3\",\"#FF6692\",\"#B6E880\",\"#FF97FF\",\"#FECB52\"],\"font\":{\"color\":\"#2a3f5f\"},\"geo\":{\"bgcolor\":\"white\",\"lakecolor\":\"white\",\"landcolor\":\"#E5ECF6\",\"showlakes\":true,\"showland\":true,\"subunitcolor\":\"white\"},\"hoverlabel\":{\"align\":\"left\"},\"hovermode\":\"closest\",\"mapbox\":{\"style\":\"light\"},\"paper_bgcolor\":\"white\",\"plot_bgcolor\":\"#E5ECF6\",\"polar\":{\"angularaxis\":{\"gridcolor\":\"white\",\"linecolor\":\"white\",\"ticks\":\"\"},\"bgcolor\":\"#E5ECF6\",\"radialaxis\":{\"gridcolor\":\"white\",\"linecolor\":\"white\",\"ticks\":\"\"}},\"scene\":{\"xaxis\":{\"backgroundcolor\":\"#E5ECF6\",\"gridcolor\":\"white\",\"gridwidth\":2,\"linecolor\":\"white\",\"showbackground\":true,\"ticks\":\"\",\"zerolinecolor\":\"white\"},\"yaxis\":{\"backgroundcolor\":\"#E5ECF6\",\"gridcolor\":\"white\",\"gridwidth\":2,\"linecolor\":\"white\",\"showbackground\":true,\"ticks\":\"\",\"zerolinecolor\":\"white\"},\"zaxis\":{\"backgroundcolor\":\"#E5ECF6\",\"gridcolor\":\"white\",\"gridwidth\":2,\"linecolor\":\"white\",\"showbackground\":true,\"ticks\":\"\",\"zerolinecolor\":\"white\"}},\"shapedefaults\":{\"line\":{\"color\":\"#2a3f5f\"}},\"ternary\":{\"aaxis\":{\"gridcolor\":\"white\",\"linecolor\":\"white\",\"ticks\":\"\"},\"baxis\":{\"gridcolor\":\"white\",\"linecolor\":\"white\",\"ticks\":\"\"},\"bgcolor\":\"#E5ECF6\",\"caxis\":{\"gridcolor\":\"white\",\"linecolor\":\"white\",\"ticks\":\"\"}},\"title\":{\"x\":0.05},\"xaxis\":{\"automargin\":true,\"gridcolor\":\"white\",\"linecolor\":\"white\",\"ticks\":\"\",\"title\":{\"standoff\":15},\"zerolinecolor\":\"white\",\"zerolinewidth\":2},\"yaxis\":{\"automargin\":true,\"gridcolor\":\"white\",\"linecolor\":\"white\",\"ticks\":\"\",\"title\":{\"standoff\":15},\"zerolinecolor\":\"white\",\"zerolinewidth\":2}}},\"title\":{\"text\":\"3\\ub300 \\ud1b5\\uc2e0\\uc0ac\\uc758 \\ubb34\\ub8cc \\uc640\\uc774\\ud30c\\uc774 \\uc11c\\ube44\\uc2a4 \\uc81c\\uacf5 \\uc218\"}},                        {\"responsive\": true}                    ).then(function(){\n",
       "                            \n",
       "var gd = document.getElementById('d7be13e1-91d2-4bde-8c24-46ad3266dd8f');\n",
       "var x = new MutationObserver(function (mutations, observer) {{\n",
       "        var display = window.getComputedStyle(gd).display;\n",
       "        if (!display || display === 'none') {{\n",
       "            console.log([gd, 'removed!']);\n",
       "            Plotly.purge(gd);\n",
       "            observer.disconnect();\n",
       "        }}\n",
       "}});\n",
       "\n",
       "// Listen for the removal of the full notebook cells\n",
       "var notebookContainer = gd.closest('#notebook-container');\n",
       "if (notebookContainer) {{\n",
       "    x.observe(notebookContainer, {childList: true});\n",
       "}}\n",
       "\n",
       "// Listen for the clearing of the current output cell\n",
       "var outputEl = gd.closest('.output');\n",
       "if (outputEl) {{\n",
       "    x.observe(outputEl, {childList: true});\n",
       "}}\n",
       "\n",
       "                        })                };                });            </script>        </div>"
      ]
     },
     "metadata": {},
     "output_type": "display_data"
    }
   ],
   "source": [
    "# 위에 막대는 서로 비교하기 편하지 않아, 파이 차트로 변경\n",
    "\n",
    "px.pie(tel3, values='수', names='서비스제공사명', title='3대 통신사의 무료 와이파이 서비스 제공 수')"
   ]
  },
  {
   "cell_type": "code",
   "execution_count": 356,
   "id": "e5d766f5",
   "metadata": {},
   "outputs": [
    {
     "data": {
      "application/vnd.plotly.v1+json": {
       "config": {
        "plotlyServerURL": "https://plot.ly"
       },
       "data": [
        {
         "domain": {
          "x": [
           0,
           1
          ],
          "y": [
           0,
           1
          ]
         },
         "hole": 0.3,
         "hovertemplate": "서비스제공사명=%{label}<br>수=%{value}<extra></extra>",
         "labels": [
          "KT",
          "SKT",
          "LGU+",
          "경상북도 경주시청",
          "서울특별시 강서구",
          "구로구(자체구축)",
          "LG U+",
          "서울시",
          "서울특별시 양천구청",
          "창원시"
         ],
         "legendgroup": "",
         "name": "",
         "showlegend": true,
         "type": "pie",
         "values": [
          9135,
          3806,
          3128,
          541,
          500,
          439,
          395,
          393,
          382,
          317
         ]
        }
       ],
       "layout": {
        "legend": {
         "tracegroupgap": 0
        },
        "template": {
         "data": {
          "bar": [
           {
            "error_x": {
             "color": "#2a3f5f"
            },
            "error_y": {
             "color": "#2a3f5f"
            },
            "marker": {
             "line": {
              "color": "#E5ECF6",
              "width": 0.5
             },
             "pattern": {
              "fillmode": "overlay",
              "size": 10,
              "solidity": 0.2
             }
            },
            "type": "bar"
           }
          ],
          "barpolar": [
           {
            "marker": {
             "line": {
              "color": "#E5ECF6",
              "width": 0.5
             },
             "pattern": {
              "fillmode": "overlay",
              "size": 10,
              "solidity": 0.2
             }
            },
            "type": "barpolar"
           }
          ],
          "carpet": [
           {
            "aaxis": {
             "endlinecolor": "#2a3f5f",
             "gridcolor": "white",
             "linecolor": "white",
             "minorgridcolor": "white",
             "startlinecolor": "#2a3f5f"
            },
            "baxis": {
             "endlinecolor": "#2a3f5f",
             "gridcolor": "white",
             "linecolor": "white",
             "minorgridcolor": "white",
             "startlinecolor": "#2a3f5f"
            },
            "type": "carpet"
           }
          ],
          "choropleth": [
           {
            "colorbar": {
             "outlinewidth": 0,
             "ticks": ""
            },
            "type": "choropleth"
           }
          ],
          "contour": [
           {
            "colorbar": {
             "outlinewidth": 0,
             "ticks": ""
            },
            "colorscale": [
             [
              0,
              "#0d0887"
             ],
             [
              0.1111111111111111,
              "#46039f"
             ],
             [
              0.2222222222222222,
              "#7201a8"
             ],
             [
              0.3333333333333333,
              "#9c179e"
             ],
             [
              0.4444444444444444,
              "#bd3786"
             ],
             [
              0.5555555555555556,
              "#d8576b"
             ],
             [
              0.6666666666666666,
              "#ed7953"
             ],
             [
              0.7777777777777778,
              "#fb9f3a"
             ],
             [
              0.8888888888888888,
              "#fdca26"
             ],
             [
              1,
              "#f0f921"
             ]
            ],
            "type": "contour"
           }
          ],
          "contourcarpet": [
           {
            "colorbar": {
             "outlinewidth": 0,
             "ticks": ""
            },
            "type": "contourcarpet"
           }
          ],
          "heatmap": [
           {
            "colorbar": {
             "outlinewidth": 0,
             "ticks": ""
            },
            "colorscale": [
             [
              0,
              "#0d0887"
             ],
             [
              0.1111111111111111,
              "#46039f"
             ],
             [
              0.2222222222222222,
              "#7201a8"
             ],
             [
              0.3333333333333333,
              "#9c179e"
             ],
             [
              0.4444444444444444,
              "#bd3786"
             ],
             [
              0.5555555555555556,
              "#d8576b"
             ],
             [
              0.6666666666666666,
              "#ed7953"
             ],
             [
              0.7777777777777778,
              "#fb9f3a"
             ],
             [
              0.8888888888888888,
              "#fdca26"
             ],
             [
              1,
              "#f0f921"
             ]
            ],
            "type": "heatmap"
           }
          ],
          "heatmapgl": [
           {
            "colorbar": {
             "outlinewidth": 0,
             "ticks": ""
            },
            "colorscale": [
             [
              0,
              "#0d0887"
             ],
             [
              0.1111111111111111,
              "#46039f"
             ],
             [
              0.2222222222222222,
              "#7201a8"
             ],
             [
              0.3333333333333333,
              "#9c179e"
             ],
             [
              0.4444444444444444,
              "#bd3786"
             ],
             [
              0.5555555555555556,
              "#d8576b"
             ],
             [
              0.6666666666666666,
              "#ed7953"
             ],
             [
              0.7777777777777778,
              "#fb9f3a"
             ],
             [
              0.8888888888888888,
              "#fdca26"
             ],
             [
              1,
              "#f0f921"
             ]
            ],
            "type": "heatmapgl"
           }
          ],
          "histogram": [
           {
            "marker": {
             "pattern": {
              "fillmode": "overlay",
              "size": 10,
              "solidity": 0.2
             }
            },
            "type": "histogram"
           }
          ],
          "histogram2d": [
           {
            "colorbar": {
             "outlinewidth": 0,
             "ticks": ""
            },
            "colorscale": [
             [
              0,
              "#0d0887"
             ],
             [
              0.1111111111111111,
              "#46039f"
             ],
             [
              0.2222222222222222,
              "#7201a8"
             ],
             [
              0.3333333333333333,
              "#9c179e"
             ],
             [
              0.4444444444444444,
              "#bd3786"
             ],
             [
              0.5555555555555556,
              "#d8576b"
             ],
             [
              0.6666666666666666,
              "#ed7953"
             ],
             [
              0.7777777777777778,
              "#fb9f3a"
             ],
             [
              0.8888888888888888,
              "#fdca26"
             ],
             [
              1,
              "#f0f921"
             ]
            ],
            "type": "histogram2d"
           }
          ],
          "histogram2dcontour": [
           {
            "colorbar": {
             "outlinewidth": 0,
             "ticks": ""
            },
            "colorscale": [
             [
              0,
              "#0d0887"
             ],
             [
              0.1111111111111111,
              "#46039f"
             ],
             [
              0.2222222222222222,
              "#7201a8"
             ],
             [
              0.3333333333333333,
              "#9c179e"
             ],
             [
              0.4444444444444444,
              "#bd3786"
             ],
             [
              0.5555555555555556,
              "#d8576b"
             ],
             [
              0.6666666666666666,
              "#ed7953"
             ],
             [
              0.7777777777777778,
              "#fb9f3a"
             ],
             [
              0.8888888888888888,
              "#fdca26"
             ],
             [
              1,
              "#f0f921"
             ]
            ],
            "type": "histogram2dcontour"
           }
          ],
          "mesh3d": [
           {
            "colorbar": {
             "outlinewidth": 0,
             "ticks": ""
            },
            "type": "mesh3d"
           }
          ],
          "parcoords": [
           {
            "line": {
             "colorbar": {
              "outlinewidth": 0,
              "ticks": ""
             }
            },
            "type": "parcoords"
           }
          ],
          "pie": [
           {
            "automargin": true,
            "type": "pie"
           }
          ],
          "scatter": [
           {
            "marker": {
             "colorbar": {
              "outlinewidth": 0,
              "ticks": ""
             }
            },
            "type": "scatter"
           }
          ],
          "scatter3d": [
           {
            "line": {
             "colorbar": {
              "outlinewidth": 0,
              "ticks": ""
             }
            },
            "marker": {
             "colorbar": {
              "outlinewidth": 0,
              "ticks": ""
             }
            },
            "type": "scatter3d"
           }
          ],
          "scattercarpet": [
           {
            "marker": {
             "colorbar": {
              "outlinewidth": 0,
              "ticks": ""
             }
            },
            "type": "scattercarpet"
           }
          ],
          "scattergeo": [
           {
            "marker": {
             "colorbar": {
              "outlinewidth": 0,
              "ticks": ""
             }
            },
            "type": "scattergeo"
           }
          ],
          "scattergl": [
           {
            "marker": {
             "colorbar": {
              "outlinewidth": 0,
              "ticks": ""
             }
            },
            "type": "scattergl"
           }
          ],
          "scattermapbox": [
           {
            "marker": {
             "colorbar": {
              "outlinewidth": 0,
              "ticks": ""
             }
            },
            "type": "scattermapbox"
           }
          ],
          "scatterpolar": [
           {
            "marker": {
             "colorbar": {
              "outlinewidth": 0,
              "ticks": ""
             }
            },
            "type": "scatterpolar"
           }
          ],
          "scatterpolargl": [
           {
            "marker": {
             "colorbar": {
              "outlinewidth": 0,
              "ticks": ""
             }
            },
            "type": "scatterpolargl"
           }
          ],
          "scatterternary": [
           {
            "marker": {
             "colorbar": {
              "outlinewidth": 0,
              "ticks": ""
             }
            },
            "type": "scatterternary"
           }
          ],
          "surface": [
           {
            "colorbar": {
             "outlinewidth": 0,
             "ticks": ""
            },
            "colorscale": [
             [
              0,
              "#0d0887"
             ],
             [
              0.1111111111111111,
              "#46039f"
             ],
             [
              0.2222222222222222,
              "#7201a8"
             ],
             [
              0.3333333333333333,
              "#9c179e"
             ],
             [
              0.4444444444444444,
              "#bd3786"
             ],
             [
              0.5555555555555556,
              "#d8576b"
             ],
             [
              0.6666666666666666,
              "#ed7953"
             ],
             [
              0.7777777777777778,
              "#fb9f3a"
             ],
             [
              0.8888888888888888,
              "#fdca26"
             ],
             [
              1,
              "#f0f921"
             ]
            ],
            "type": "surface"
           }
          ],
          "table": [
           {
            "cells": {
             "fill": {
              "color": "#EBF0F8"
             },
             "line": {
              "color": "white"
             }
            },
            "header": {
             "fill": {
              "color": "#C8D4E3"
             },
             "line": {
              "color": "white"
             }
            },
            "type": "table"
           }
          ]
         },
         "layout": {
          "annotationdefaults": {
           "arrowcolor": "#2a3f5f",
           "arrowhead": 0,
           "arrowwidth": 1
          },
          "autotypenumbers": "strict",
          "coloraxis": {
           "colorbar": {
            "outlinewidth": 0,
            "ticks": ""
           }
          },
          "colorscale": {
           "diverging": [
            [
             0,
             "#8e0152"
            ],
            [
             0.1,
             "#c51b7d"
            ],
            [
             0.2,
             "#de77ae"
            ],
            [
             0.3,
             "#f1b6da"
            ],
            [
             0.4,
             "#fde0ef"
            ],
            [
             0.5,
             "#f7f7f7"
            ],
            [
             0.6,
             "#e6f5d0"
            ],
            [
             0.7,
             "#b8e186"
            ],
            [
             0.8,
             "#7fbc41"
            ],
            [
             0.9,
             "#4d9221"
            ],
            [
             1,
             "#276419"
            ]
           ],
           "sequential": [
            [
             0,
             "#0d0887"
            ],
            [
             0.1111111111111111,
             "#46039f"
            ],
            [
             0.2222222222222222,
             "#7201a8"
            ],
            [
             0.3333333333333333,
             "#9c179e"
            ],
            [
             0.4444444444444444,
             "#bd3786"
            ],
            [
             0.5555555555555556,
             "#d8576b"
            ],
            [
             0.6666666666666666,
             "#ed7953"
            ],
            [
             0.7777777777777778,
             "#fb9f3a"
            ],
            [
             0.8888888888888888,
             "#fdca26"
            ],
            [
             1,
             "#f0f921"
            ]
           ],
           "sequentialminus": [
            [
             0,
             "#0d0887"
            ],
            [
             0.1111111111111111,
             "#46039f"
            ],
            [
             0.2222222222222222,
             "#7201a8"
            ],
            [
             0.3333333333333333,
             "#9c179e"
            ],
            [
             0.4444444444444444,
             "#bd3786"
            ],
            [
             0.5555555555555556,
             "#d8576b"
            ],
            [
             0.6666666666666666,
             "#ed7953"
            ],
            [
             0.7777777777777778,
             "#fb9f3a"
            ],
            [
             0.8888888888888888,
             "#fdca26"
            ],
            [
             1,
             "#f0f921"
            ]
           ]
          },
          "colorway": [
           "#636efa",
           "#EF553B",
           "#00cc96",
           "#ab63fa",
           "#FFA15A",
           "#19d3f3",
           "#FF6692",
           "#B6E880",
           "#FF97FF",
           "#FECB52"
          ],
          "font": {
           "color": "#2a3f5f"
          },
          "geo": {
           "bgcolor": "white",
           "lakecolor": "white",
           "landcolor": "#E5ECF6",
           "showlakes": true,
           "showland": true,
           "subunitcolor": "white"
          },
          "hoverlabel": {
           "align": "left"
          },
          "hovermode": "closest",
          "mapbox": {
           "style": "light"
          },
          "paper_bgcolor": "white",
          "plot_bgcolor": "#E5ECF6",
          "polar": {
           "angularaxis": {
            "gridcolor": "white",
            "linecolor": "white",
            "ticks": ""
           },
           "bgcolor": "#E5ECF6",
           "radialaxis": {
            "gridcolor": "white",
            "linecolor": "white",
            "ticks": ""
           }
          },
          "scene": {
           "xaxis": {
            "backgroundcolor": "#E5ECF6",
            "gridcolor": "white",
            "gridwidth": 2,
            "linecolor": "white",
            "showbackground": true,
            "ticks": "",
            "zerolinecolor": "white"
           },
           "yaxis": {
            "backgroundcolor": "#E5ECF6",
            "gridcolor": "white",
            "gridwidth": 2,
            "linecolor": "white",
            "showbackground": true,
            "ticks": "",
            "zerolinecolor": "white"
           },
           "zaxis": {
            "backgroundcolor": "#E5ECF6",
            "gridcolor": "white",
            "gridwidth": 2,
            "linecolor": "white",
            "showbackground": true,
            "ticks": "",
            "zerolinecolor": "white"
           }
          },
          "shapedefaults": {
           "line": {
            "color": "#2a3f5f"
           }
          },
          "ternary": {
           "aaxis": {
            "gridcolor": "white",
            "linecolor": "white",
            "ticks": ""
           },
           "baxis": {
            "gridcolor": "white",
            "linecolor": "white",
            "ticks": ""
           },
           "bgcolor": "#E5ECF6",
           "caxis": {
            "gridcolor": "white",
            "linecolor": "white",
            "ticks": ""
           }
          },
          "title": {
           "x": 0.05
          },
          "xaxis": {
           "automargin": true,
           "gridcolor": "white",
           "linecolor": "white",
           "ticks": "",
           "title": {
            "standoff": 15
           },
           "zerolinecolor": "white",
           "zerolinewidth": 2
          },
          "yaxis": {
           "automargin": true,
           "gridcolor": "white",
           "linecolor": "white",
           "ticks": "",
           "title": {
            "standoff": 15
           },
           "zerolinecolor": "white",
           "zerolinewidth": 2
          }
         }
        },
        "title": {
         "text": "서비스제공사 TOP10"
        }
       }
      },
      "text/html": [
       "<div>                            <div id=\"4e3508ed-b052-4bd8-80f0-4dee06c04c21\" class=\"plotly-graph-div\" style=\"height:525px; width:100%;\"></div>            <script type=\"text/javascript\">                require([\"plotly\"], function(Plotly) {                    window.PLOTLYENV=window.PLOTLYENV || {};                                    if (document.getElementById(\"4e3508ed-b052-4bd8-80f0-4dee06c04c21\")) {                    Plotly.newPlot(                        \"4e3508ed-b052-4bd8-80f0-4dee06c04c21\",                        [{\"domain\":{\"x\":[0.0,1.0],\"y\":[0.0,1.0]},\"hole\":0.3,\"hovertemplate\":\"\\uc11c\\ube44\\uc2a4\\uc81c\\uacf5\\uc0ac\\uba85=%{label}<br>\\uc218=%{value}<extra></extra>\",\"labels\":[\"KT\",\"SKT\",\"LGU+\",\"\\uacbd\\uc0c1\\ubd81\\ub3c4 \\uacbd\\uc8fc\\uc2dc\\uccad\",\"\\uc11c\\uc6b8\\ud2b9\\ubcc4\\uc2dc \\uac15\\uc11c\\uad6c\",\"\\uad6c\\ub85c\\uad6c(\\uc790\\uccb4\\uad6c\\ucd95)\",\"LG U+\",\"\\uc11c\\uc6b8\\uc2dc\",\"\\uc11c\\uc6b8\\ud2b9\\ubcc4\\uc2dc \\uc591\\ucc9c\\uad6c\\uccad\",\"\\ucc3d\\uc6d0\\uc2dc\"],\"legendgroup\":\"\",\"name\":\"\",\"showlegend\":true,\"type\":\"pie\",\"values\":[9135,3806,3128,541,500,439,395,393,382,317]}],                        {\"legend\":{\"tracegroupgap\":0},\"template\":{\"data\":{\"bar\":[{\"error_x\":{\"color\":\"#2a3f5f\"},\"error_y\":{\"color\":\"#2a3f5f\"},\"marker\":{\"line\":{\"color\":\"#E5ECF6\",\"width\":0.5},\"pattern\":{\"fillmode\":\"overlay\",\"size\":10,\"solidity\":0.2}},\"type\":\"bar\"}],\"barpolar\":[{\"marker\":{\"line\":{\"color\":\"#E5ECF6\",\"width\":0.5},\"pattern\":{\"fillmode\":\"overlay\",\"size\":10,\"solidity\":0.2}},\"type\":\"barpolar\"}],\"carpet\":[{\"aaxis\":{\"endlinecolor\":\"#2a3f5f\",\"gridcolor\":\"white\",\"linecolor\":\"white\",\"minorgridcolor\":\"white\",\"startlinecolor\":\"#2a3f5f\"},\"baxis\":{\"endlinecolor\":\"#2a3f5f\",\"gridcolor\":\"white\",\"linecolor\":\"white\",\"minorgridcolor\":\"white\",\"startlinecolor\":\"#2a3f5f\"},\"type\":\"carpet\"}],\"choropleth\":[{\"colorbar\":{\"outlinewidth\":0,\"ticks\":\"\"},\"type\":\"choropleth\"}],\"contour\":[{\"colorbar\":{\"outlinewidth\":0,\"ticks\":\"\"},\"colorscale\":[[0.0,\"#0d0887\"],[0.1111111111111111,\"#46039f\"],[0.2222222222222222,\"#7201a8\"],[0.3333333333333333,\"#9c179e\"],[0.4444444444444444,\"#bd3786\"],[0.5555555555555556,\"#d8576b\"],[0.6666666666666666,\"#ed7953\"],[0.7777777777777778,\"#fb9f3a\"],[0.8888888888888888,\"#fdca26\"],[1.0,\"#f0f921\"]],\"type\":\"contour\"}],\"contourcarpet\":[{\"colorbar\":{\"outlinewidth\":0,\"ticks\":\"\"},\"type\":\"contourcarpet\"}],\"heatmap\":[{\"colorbar\":{\"outlinewidth\":0,\"ticks\":\"\"},\"colorscale\":[[0.0,\"#0d0887\"],[0.1111111111111111,\"#46039f\"],[0.2222222222222222,\"#7201a8\"],[0.3333333333333333,\"#9c179e\"],[0.4444444444444444,\"#bd3786\"],[0.5555555555555556,\"#d8576b\"],[0.6666666666666666,\"#ed7953\"],[0.7777777777777778,\"#fb9f3a\"],[0.8888888888888888,\"#fdca26\"],[1.0,\"#f0f921\"]],\"type\":\"heatmap\"}],\"heatmapgl\":[{\"colorbar\":{\"outlinewidth\":0,\"ticks\":\"\"},\"colorscale\":[[0.0,\"#0d0887\"],[0.1111111111111111,\"#46039f\"],[0.2222222222222222,\"#7201a8\"],[0.3333333333333333,\"#9c179e\"],[0.4444444444444444,\"#bd3786\"],[0.5555555555555556,\"#d8576b\"],[0.6666666666666666,\"#ed7953\"],[0.7777777777777778,\"#fb9f3a\"],[0.8888888888888888,\"#fdca26\"],[1.0,\"#f0f921\"]],\"type\":\"heatmapgl\"}],\"histogram\":[{\"marker\":{\"pattern\":{\"fillmode\":\"overlay\",\"size\":10,\"solidity\":0.2}},\"type\":\"histogram\"}],\"histogram2d\":[{\"colorbar\":{\"outlinewidth\":0,\"ticks\":\"\"},\"colorscale\":[[0.0,\"#0d0887\"],[0.1111111111111111,\"#46039f\"],[0.2222222222222222,\"#7201a8\"],[0.3333333333333333,\"#9c179e\"],[0.4444444444444444,\"#bd3786\"],[0.5555555555555556,\"#d8576b\"],[0.6666666666666666,\"#ed7953\"],[0.7777777777777778,\"#fb9f3a\"],[0.8888888888888888,\"#fdca26\"],[1.0,\"#f0f921\"]],\"type\":\"histogram2d\"}],\"histogram2dcontour\":[{\"colorbar\":{\"outlinewidth\":0,\"ticks\":\"\"},\"colorscale\":[[0.0,\"#0d0887\"],[0.1111111111111111,\"#46039f\"],[0.2222222222222222,\"#7201a8\"],[0.3333333333333333,\"#9c179e\"],[0.4444444444444444,\"#bd3786\"],[0.5555555555555556,\"#d8576b\"],[0.6666666666666666,\"#ed7953\"],[0.7777777777777778,\"#fb9f3a\"],[0.8888888888888888,\"#fdca26\"],[1.0,\"#f0f921\"]],\"type\":\"histogram2dcontour\"}],\"mesh3d\":[{\"colorbar\":{\"outlinewidth\":0,\"ticks\":\"\"},\"type\":\"mesh3d\"}],\"parcoords\":[{\"line\":{\"colorbar\":{\"outlinewidth\":0,\"ticks\":\"\"}},\"type\":\"parcoords\"}],\"pie\":[{\"automargin\":true,\"type\":\"pie\"}],\"scatter\":[{\"marker\":{\"colorbar\":{\"outlinewidth\":0,\"ticks\":\"\"}},\"type\":\"scatter\"}],\"scatter3d\":[{\"line\":{\"colorbar\":{\"outlinewidth\":0,\"ticks\":\"\"}},\"marker\":{\"colorbar\":{\"outlinewidth\":0,\"ticks\":\"\"}},\"type\":\"scatter3d\"}],\"scattercarpet\":[{\"marker\":{\"colorbar\":{\"outlinewidth\":0,\"ticks\":\"\"}},\"type\":\"scattercarpet\"}],\"scattergeo\":[{\"marker\":{\"colorbar\":{\"outlinewidth\":0,\"ticks\":\"\"}},\"type\":\"scattergeo\"}],\"scattergl\":[{\"marker\":{\"colorbar\":{\"outlinewidth\":0,\"ticks\":\"\"}},\"type\":\"scattergl\"}],\"scattermapbox\":[{\"marker\":{\"colorbar\":{\"outlinewidth\":0,\"ticks\":\"\"}},\"type\":\"scattermapbox\"}],\"scatterpolar\":[{\"marker\":{\"colorbar\":{\"outlinewidth\":0,\"ticks\":\"\"}},\"type\":\"scatterpolar\"}],\"scatterpolargl\":[{\"marker\":{\"colorbar\":{\"outlinewidth\":0,\"ticks\":\"\"}},\"type\":\"scatterpolargl\"}],\"scatterternary\":[{\"marker\":{\"colorbar\":{\"outlinewidth\":0,\"ticks\":\"\"}},\"type\":\"scatterternary\"}],\"surface\":[{\"colorbar\":{\"outlinewidth\":0,\"ticks\":\"\"},\"colorscale\":[[0.0,\"#0d0887\"],[0.1111111111111111,\"#46039f\"],[0.2222222222222222,\"#7201a8\"],[0.3333333333333333,\"#9c179e\"],[0.4444444444444444,\"#bd3786\"],[0.5555555555555556,\"#d8576b\"],[0.6666666666666666,\"#ed7953\"],[0.7777777777777778,\"#fb9f3a\"],[0.8888888888888888,\"#fdca26\"],[1.0,\"#f0f921\"]],\"type\":\"surface\"}],\"table\":[{\"cells\":{\"fill\":{\"color\":\"#EBF0F8\"},\"line\":{\"color\":\"white\"}},\"header\":{\"fill\":{\"color\":\"#C8D4E3\"},\"line\":{\"color\":\"white\"}},\"type\":\"table\"}]},\"layout\":{\"annotationdefaults\":{\"arrowcolor\":\"#2a3f5f\",\"arrowhead\":0,\"arrowwidth\":1},\"autotypenumbers\":\"strict\",\"coloraxis\":{\"colorbar\":{\"outlinewidth\":0,\"ticks\":\"\"}},\"colorscale\":{\"diverging\":[[0,\"#8e0152\"],[0.1,\"#c51b7d\"],[0.2,\"#de77ae\"],[0.3,\"#f1b6da\"],[0.4,\"#fde0ef\"],[0.5,\"#f7f7f7\"],[0.6,\"#e6f5d0\"],[0.7,\"#b8e186\"],[0.8,\"#7fbc41\"],[0.9,\"#4d9221\"],[1,\"#276419\"]],\"sequential\":[[0.0,\"#0d0887\"],[0.1111111111111111,\"#46039f\"],[0.2222222222222222,\"#7201a8\"],[0.3333333333333333,\"#9c179e\"],[0.4444444444444444,\"#bd3786\"],[0.5555555555555556,\"#d8576b\"],[0.6666666666666666,\"#ed7953\"],[0.7777777777777778,\"#fb9f3a\"],[0.8888888888888888,\"#fdca26\"],[1.0,\"#f0f921\"]],\"sequentialminus\":[[0.0,\"#0d0887\"],[0.1111111111111111,\"#46039f\"],[0.2222222222222222,\"#7201a8\"],[0.3333333333333333,\"#9c179e\"],[0.4444444444444444,\"#bd3786\"],[0.5555555555555556,\"#d8576b\"],[0.6666666666666666,\"#ed7953\"],[0.7777777777777778,\"#fb9f3a\"],[0.8888888888888888,\"#fdca26\"],[1.0,\"#f0f921\"]]},\"colorway\":[\"#636efa\",\"#EF553B\",\"#00cc96\",\"#ab63fa\",\"#FFA15A\",\"#19d3f3\",\"#FF6692\",\"#B6E880\",\"#FF97FF\",\"#FECB52\"],\"font\":{\"color\":\"#2a3f5f\"},\"geo\":{\"bgcolor\":\"white\",\"lakecolor\":\"white\",\"landcolor\":\"#E5ECF6\",\"showlakes\":true,\"showland\":true,\"subunitcolor\":\"white\"},\"hoverlabel\":{\"align\":\"left\"},\"hovermode\":\"closest\",\"mapbox\":{\"style\":\"light\"},\"paper_bgcolor\":\"white\",\"plot_bgcolor\":\"#E5ECF6\",\"polar\":{\"angularaxis\":{\"gridcolor\":\"white\",\"linecolor\":\"white\",\"ticks\":\"\"},\"bgcolor\":\"#E5ECF6\",\"radialaxis\":{\"gridcolor\":\"white\",\"linecolor\":\"white\",\"ticks\":\"\"}},\"scene\":{\"xaxis\":{\"backgroundcolor\":\"#E5ECF6\",\"gridcolor\":\"white\",\"gridwidth\":2,\"linecolor\":\"white\",\"showbackground\":true,\"ticks\":\"\",\"zerolinecolor\":\"white\"},\"yaxis\":{\"backgroundcolor\":\"#E5ECF6\",\"gridcolor\":\"white\",\"gridwidth\":2,\"linecolor\":\"white\",\"showbackground\":true,\"ticks\":\"\",\"zerolinecolor\":\"white\"},\"zaxis\":{\"backgroundcolor\":\"#E5ECF6\",\"gridcolor\":\"white\",\"gridwidth\":2,\"linecolor\":\"white\",\"showbackground\":true,\"ticks\":\"\",\"zerolinecolor\":\"white\"}},\"shapedefaults\":{\"line\":{\"color\":\"#2a3f5f\"}},\"ternary\":{\"aaxis\":{\"gridcolor\":\"white\",\"linecolor\":\"white\",\"ticks\":\"\"},\"baxis\":{\"gridcolor\":\"white\",\"linecolor\":\"white\",\"ticks\":\"\"},\"bgcolor\":\"#E5ECF6\",\"caxis\":{\"gridcolor\":\"white\",\"linecolor\":\"white\",\"ticks\":\"\"}},\"title\":{\"x\":0.05},\"xaxis\":{\"automargin\":true,\"gridcolor\":\"white\",\"linecolor\":\"white\",\"ticks\":\"\",\"title\":{\"standoff\":15},\"zerolinecolor\":\"white\",\"zerolinewidth\":2},\"yaxis\":{\"automargin\":true,\"gridcolor\":\"white\",\"linecolor\":\"white\",\"ticks\":\"\",\"title\":{\"standoff\":15},\"zerolinecolor\":\"white\",\"zerolinewidth\":2}}},\"title\":{\"text\":\"\\uc11c\\ube44\\uc2a4\\uc81c\\uacf5\\uc0ac TOP10\"}},                        {\"responsive\": true}                    ).then(function(){\n",
       "                            \n",
       "var gd = document.getElementById('4e3508ed-b052-4bd8-80f0-4dee06c04c21');\n",
       "var x = new MutationObserver(function (mutations, observer) {{\n",
       "        var display = window.getComputedStyle(gd).display;\n",
       "        if (!display || display === 'none') {{\n",
       "            console.log([gd, 'removed!']);\n",
       "            Plotly.purge(gd);\n",
       "            observer.disconnect();\n",
       "        }}\n",
       "}});\n",
       "\n",
       "// Listen for the removal of the full notebook cells\n",
       "var notebookContainer = gd.closest('#notebook-container');\n",
       "if (notebookContainer) {{\n",
       "    x.observe(notebookContainer, {childList: true});\n",
       "}}\n",
       "\n",
       "// Listen for the clearing of the current output cell\n",
       "var outputEl = gd.closest('.output');\n",
       "if (outputEl) {{\n",
       "    x.observe(outputEl, {childList: true});\n",
       "}}\n",
       "\n",
       "                        })                };                });            </script>        </div>"
      ]
     },
     "metadata": {},
     "output_type": "display_data"
    }
   ],
   "source": [
    "px.pie(tel_10, values='수', names='서비스제공사명',title='서비스제공사 TOP10', hole=.3)"
   ]
  },
  {
   "cell_type": "code",
   "execution_count": 344,
   "id": "150f3b4d",
   "metadata": {},
   "outputs": [
    {
     "data": {
      "application/vnd.plotly.v1+json": {
       "config": {
        "linkText": "Export to plot.ly",
        "plotlyServerURL": "https://plot.ly",
        "showLink": false
       },
       "data": [
        {
         "name": "KT",
         "type": "bar",
         "x": [
          "강원도",
          "경기도",
          "경상남도",
          "경상북도",
          "광주광역시",
          "대구광역시",
          "대전광역시",
          "부산광역시",
          "서울특별시",
          "세종특별자치시",
          "울산광역시",
          "인천광역시",
          "전라남도",
          "전라북도",
          "제주특별자치도",
          "충청남도",
          "충청북도"
         ],
         "y": [
          972,
          911,
          375,
          421,
          251,
          213,
          120,
          427,
          116,
          0,
          185,
          696,
          1205,
          578,
          500,
          629,
          572
         ]
        },
        {
         "name": "SKT",
         "type": "bar",
         "x": [
          "강원도",
          "경기도",
          "경상남도",
          "경상북도",
          "광주광역시",
          "대구광역시",
          "대전광역시",
          "부산광역시",
          "서울특별시",
          "세종특별자치시",
          "울산광역시",
          "인천광역시",
          "전라남도",
          "전라북도",
          "충청남도",
          "충청북도"
         ],
         "y": [
          357,
          167,
          93,
          186,
          269,
          165,
          84,
          405,
          32,
          0,
          176,
          369,
          245,
          220,
          175,
          151
         ]
        },
        {
         "name": "LGU+",
         "type": "bar",
         "x": [
          "강원도",
          "경기도",
          "경상남도",
          "경상북도",
          "광주광역시",
          "대구광역시",
          "대전광역시",
          "부산광역시",
          "서울특별시",
          "세종특별자치시",
          "울산광역시",
          "인천광역시",
          "전라남도",
          "전라북도",
          "충청남도",
          "충청북도"
         ],
         "y": [
          218,
          226,
          108,
          111,
          285,
          197,
          86,
          335,
          133,
          0,
          136,
          404,
          169,
          174,
          127,
          106
         ]
        }
       ],
       "layout": {
        "barmode": "stack",
        "template": {
         "data": {
          "bar": [
           {
            "error_x": {
             "color": "#2a3f5f"
            },
            "error_y": {
             "color": "#2a3f5f"
            },
            "marker": {
             "line": {
              "color": "#E5ECF6",
              "width": 0.5
             },
             "pattern": {
              "fillmode": "overlay",
              "size": 10,
              "solidity": 0.2
             }
            },
            "type": "bar"
           }
          ],
          "barpolar": [
           {
            "marker": {
             "line": {
              "color": "#E5ECF6",
              "width": 0.5
             },
             "pattern": {
              "fillmode": "overlay",
              "size": 10,
              "solidity": 0.2
             }
            },
            "type": "barpolar"
           }
          ],
          "carpet": [
           {
            "aaxis": {
             "endlinecolor": "#2a3f5f",
             "gridcolor": "white",
             "linecolor": "white",
             "minorgridcolor": "white",
             "startlinecolor": "#2a3f5f"
            },
            "baxis": {
             "endlinecolor": "#2a3f5f",
             "gridcolor": "white",
             "linecolor": "white",
             "minorgridcolor": "white",
             "startlinecolor": "#2a3f5f"
            },
            "type": "carpet"
           }
          ],
          "choropleth": [
           {
            "colorbar": {
             "outlinewidth": 0,
             "ticks": ""
            },
            "type": "choropleth"
           }
          ],
          "contour": [
           {
            "colorbar": {
             "outlinewidth": 0,
             "ticks": ""
            },
            "colorscale": [
             [
              0,
              "#0d0887"
             ],
             [
              0.1111111111111111,
              "#46039f"
             ],
             [
              0.2222222222222222,
              "#7201a8"
             ],
             [
              0.3333333333333333,
              "#9c179e"
             ],
             [
              0.4444444444444444,
              "#bd3786"
             ],
             [
              0.5555555555555556,
              "#d8576b"
             ],
             [
              0.6666666666666666,
              "#ed7953"
             ],
             [
              0.7777777777777778,
              "#fb9f3a"
             ],
             [
              0.8888888888888888,
              "#fdca26"
             ],
             [
              1,
              "#f0f921"
             ]
            ],
            "type": "contour"
           }
          ],
          "contourcarpet": [
           {
            "colorbar": {
             "outlinewidth": 0,
             "ticks": ""
            },
            "type": "contourcarpet"
           }
          ],
          "heatmap": [
           {
            "colorbar": {
             "outlinewidth": 0,
             "ticks": ""
            },
            "colorscale": [
             [
              0,
              "#0d0887"
             ],
             [
              0.1111111111111111,
              "#46039f"
             ],
             [
              0.2222222222222222,
              "#7201a8"
             ],
             [
              0.3333333333333333,
              "#9c179e"
             ],
             [
              0.4444444444444444,
              "#bd3786"
             ],
             [
              0.5555555555555556,
              "#d8576b"
             ],
             [
              0.6666666666666666,
              "#ed7953"
             ],
             [
              0.7777777777777778,
              "#fb9f3a"
             ],
             [
              0.8888888888888888,
              "#fdca26"
             ],
             [
              1,
              "#f0f921"
             ]
            ],
            "type": "heatmap"
           }
          ],
          "heatmapgl": [
           {
            "colorbar": {
             "outlinewidth": 0,
             "ticks": ""
            },
            "colorscale": [
             [
              0,
              "#0d0887"
             ],
             [
              0.1111111111111111,
              "#46039f"
             ],
             [
              0.2222222222222222,
              "#7201a8"
             ],
             [
              0.3333333333333333,
              "#9c179e"
             ],
             [
              0.4444444444444444,
              "#bd3786"
             ],
             [
              0.5555555555555556,
              "#d8576b"
             ],
             [
              0.6666666666666666,
              "#ed7953"
             ],
             [
              0.7777777777777778,
              "#fb9f3a"
             ],
             [
              0.8888888888888888,
              "#fdca26"
             ],
             [
              1,
              "#f0f921"
             ]
            ],
            "type": "heatmapgl"
           }
          ],
          "histogram": [
           {
            "marker": {
             "pattern": {
              "fillmode": "overlay",
              "size": 10,
              "solidity": 0.2
             }
            },
            "type": "histogram"
           }
          ],
          "histogram2d": [
           {
            "colorbar": {
             "outlinewidth": 0,
             "ticks": ""
            },
            "colorscale": [
             [
              0,
              "#0d0887"
             ],
             [
              0.1111111111111111,
              "#46039f"
             ],
             [
              0.2222222222222222,
              "#7201a8"
             ],
             [
              0.3333333333333333,
              "#9c179e"
             ],
             [
              0.4444444444444444,
              "#bd3786"
             ],
             [
              0.5555555555555556,
              "#d8576b"
             ],
             [
              0.6666666666666666,
              "#ed7953"
             ],
             [
              0.7777777777777778,
              "#fb9f3a"
             ],
             [
              0.8888888888888888,
              "#fdca26"
             ],
             [
              1,
              "#f0f921"
             ]
            ],
            "type": "histogram2d"
           }
          ],
          "histogram2dcontour": [
           {
            "colorbar": {
             "outlinewidth": 0,
             "ticks": ""
            },
            "colorscale": [
             [
              0,
              "#0d0887"
             ],
             [
              0.1111111111111111,
              "#46039f"
             ],
             [
              0.2222222222222222,
              "#7201a8"
             ],
             [
              0.3333333333333333,
              "#9c179e"
             ],
             [
              0.4444444444444444,
              "#bd3786"
             ],
             [
              0.5555555555555556,
              "#d8576b"
             ],
             [
              0.6666666666666666,
              "#ed7953"
             ],
             [
              0.7777777777777778,
              "#fb9f3a"
             ],
             [
              0.8888888888888888,
              "#fdca26"
             ],
             [
              1,
              "#f0f921"
             ]
            ],
            "type": "histogram2dcontour"
           }
          ],
          "mesh3d": [
           {
            "colorbar": {
             "outlinewidth": 0,
             "ticks": ""
            },
            "type": "mesh3d"
           }
          ],
          "parcoords": [
           {
            "line": {
             "colorbar": {
              "outlinewidth": 0,
              "ticks": ""
             }
            },
            "type": "parcoords"
           }
          ],
          "pie": [
           {
            "automargin": true,
            "type": "pie"
           }
          ],
          "scatter": [
           {
            "marker": {
             "colorbar": {
              "outlinewidth": 0,
              "ticks": ""
             }
            },
            "type": "scatter"
           }
          ],
          "scatter3d": [
           {
            "line": {
             "colorbar": {
              "outlinewidth": 0,
              "ticks": ""
             }
            },
            "marker": {
             "colorbar": {
              "outlinewidth": 0,
              "ticks": ""
             }
            },
            "type": "scatter3d"
           }
          ],
          "scattercarpet": [
           {
            "marker": {
             "colorbar": {
              "outlinewidth": 0,
              "ticks": ""
             }
            },
            "type": "scattercarpet"
           }
          ],
          "scattergeo": [
           {
            "marker": {
             "colorbar": {
              "outlinewidth": 0,
              "ticks": ""
             }
            },
            "type": "scattergeo"
           }
          ],
          "scattergl": [
           {
            "marker": {
             "colorbar": {
              "outlinewidth": 0,
              "ticks": ""
             }
            },
            "type": "scattergl"
           }
          ],
          "scattermapbox": [
           {
            "marker": {
             "colorbar": {
              "outlinewidth": 0,
              "ticks": ""
             }
            },
            "type": "scattermapbox"
           }
          ],
          "scatterpolar": [
           {
            "marker": {
             "colorbar": {
              "outlinewidth": 0,
              "ticks": ""
             }
            },
            "type": "scatterpolar"
           }
          ],
          "scatterpolargl": [
           {
            "marker": {
             "colorbar": {
              "outlinewidth": 0,
              "ticks": ""
             }
            },
            "type": "scatterpolargl"
           }
          ],
          "scatterternary": [
           {
            "marker": {
             "colorbar": {
              "outlinewidth": 0,
              "ticks": ""
             }
            },
            "type": "scatterternary"
           }
          ],
          "surface": [
           {
            "colorbar": {
             "outlinewidth": 0,
             "ticks": ""
            },
            "colorscale": [
             [
              0,
              "#0d0887"
             ],
             [
              0.1111111111111111,
              "#46039f"
             ],
             [
              0.2222222222222222,
              "#7201a8"
             ],
             [
              0.3333333333333333,
              "#9c179e"
             ],
             [
              0.4444444444444444,
              "#bd3786"
             ],
             [
              0.5555555555555556,
              "#d8576b"
             ],
             [
              0.6666666666666666,
              "#ed7953"
             ],
             [
              0.7777777777777778,
              "#fb9f3a"
             ],
             [
              0.8888888888888888,
              "#fdca26"
             ],
             [
              1,
              "#f0f921"
             ]
            ],
            "type": "surface"
           }
          ],
          "table": [
           {
            "cells": {
             "fill": {
              "color": "#EBF0F8"
             },
             "line": {
              "color": "white"
             }
            },
            "header": {
             "fill": {
              "color": "#C8D4E3"
             },
             "line": {
              "color": "white"
             }
            },
            "type": "table"
           }
          ]
         },
         "layout": {
          "annotationdefaults": {
           "arrowcolor": "#2a3f5f",
           "arrowhead": 0,
           "arrowwidth": 1
          },
          "autotypenumbers": "strict",
          "coloraxis": {
           "colorbar": {
            "outlinewidth": 0,
            "ticks": ""
           }
          },
          "colorscale": {
           "diverging": [
            [
             0,
             "#8e0152"
            ],
            [
             0.1,
             "#c51b7d"
            ],
            [
             0.2,
             "#de77ae"
            ],
            [
             0.3,
             "#f1b6da"
            ],
            [
             0.4,
             "#fde0ef"
            ],
            [
             0.5,
             "#f7f7f7"
            ],
            [
             0.6,
             "#e6f5d0"
            ],
            [
             0.7,
             "#b8e186"
            ],
            [
             0.8,
             "#7fbc41"
            ],
            [
             0.9,
             "#4d9221"
            ],
            [
             1,
             "#276419"
            ]
           ],
           "sequential": [
            [
             0,
             "#0d0887"
            ],
            [
             0.1111111111111111,
             "#46039f"
            ],
            [
             0.2222222222222222,
             "#7201a8"
            ],
            [
             0.3333333333333333,
             "#9c179e"
            ],
            [
             0.4444444444444444,
             "#bd3786"
            ],
            [
             0.5555555555555556,
             "#d8576b"
            ],
            [
             0.6666666666666666,
             "#ed7953"
            ],
            [
             0.7777777777777778,
             "#fb9f3a"
            ],
            [
             0.8888888888888888,
             "#fdca26"
            ],
            [
             1,
             "#f0f921"
            ]
           ],
           "sequentialminus": [
            [
             0,
             "#0d0887"
            ],
            [
             0.1111111111111111,
             "#46039f"
            ],
            [
             0.2222222222222222,
             "#7201a8"
            ],
            [
             0.3333333333333333,
             "#9c179e"
            ],
            [
             0.4444444444444444,
             "#bd3786"
            ],
            [
             0.5555555555555556,
             "#d8576b"
            ],
            [
             0.6666666666666666,
             "#ed7953"
            ],
            [
             0.7777777777777778,
             "#fb9f3a"
            ],
            [
             0.8888888888888888,
             "#fdca26"
            ],
            [
             1,
             "#f0f921"
            ]
           ]
          },
          "colorway": [
           "#636efa",
           "#EF553B",
           "#00cc96",
           "#ab63fa",
           "#FFA15A",
           "#19d3f3",
           "#FF6692",
           "#B6E880",
           "#FF97FF",
           "#FECB52"
          ],
          "font": {
           "color": "#2a3f5f"
          },
          "geo": {
           "bgcolor": "white",
           "lakecolor": "white",
           "landcolor": "#E5ECF6",
           "showlakes": true,
           "showland": true,
           "subunitcolor": "white"
          },
          "hoverlabel": {
           "align": "left"
          },
          "hovermode": "closest",
          "mapbox": {
           "style": "light"
          },
          "paper_bgcolor": "white",
          "plot_bgcolor": "#E5ECF6",
          "polar": {
           "angularaxis": {
            "gridcolor": "white",
            "linecolor": "white",
            "ticks": ""
           },
           "bgcolor": "#E5ECF6",
           "radialaxis": {
            "gridcolor": "white",
            "linecolor": "white",
            "ticks": ""
           }
          },
          "scene": {
           "xaxis": {
            "backgroundcolor": "#E5ECF6",
            "gridcolor": "white",
            "gridwidth": 2,
            "linecolor": "white",
            "showbackground": true,
            "ticks": "",
            "zerolinecolor": "white"
           },
           "yaxis": {
            "backgroundcolor": "#E5ECF6",
            "gridcolor": "white",
            "gridwidth": 2,
            "linecolor": "white",
            "showbackground": true,
            "ticks": "",
            "zerolinecolor": "white"
           },
           "zaxis": {
            "backgroundcolor": "#E5ECF6",
            "gridcolor": "white",
            "gridwidth": 2,
            "linecolor": "white",
            "showbackground": true,
            "ticks": "",
            "zerolinecolor": "white"
           }
          },
          "shapedefaults": {
           "line": {
            "color": "#2a3f5f"
           }
          },
          "ternary": {
           "aaxis": {
            "gridcolor": "white",
            "linecolor": "white",
            "ticks": ""
           },
           "baxis": {
            "gridcolor": "white",
            "linecolor": "white",
            "ticks": ""
           },
           "bgcolor": "#E5ECF6",
           "caxis": {
            "gridcolor": "white",
            "linecolor": "white",
            "ticks": ""
           }
          },
          "title": {
           "x": 0.05
          },
          "xaxis": {
           "automargin": true,
           "gridcolor": "white",
           "linecolor": "white",
           "ticks": "",
           "title": {
            "standoff": 15
           },
           "zerolinecolor": "white",
           "zerolinewidth": 2
          },
          "yaxis": {
           "automargin": true,
           "gridcolor": "white",
           "linecolor": "white",
           "ticks": "",
           "title": {
            "standoff": 15
           },
           "zerolinecolor": "white",
           "zerolinewidth": 2
          }
         }
        },
        "title": {
         "text": "지역별 제공사 비교"
        }
       }
      },
      "text/html": [
       "<div>                            <div id=\"ed1c3220-b928-462e-bf3a-a68c9f0dc1cc\" class=\"plotly-graph-div\" style=\"height:525px; width:100%;\"></div>            <script type=\"text/javascript\">                require([\"plotly\"], function(Plotly) {                    window.PLOTLYENV=window.PLOTLYENV || {};                                    if (document.getElementById(\"ed1c3220-b928-462e-bf3a-a68c9f0dc1cc\")) {                    Plotly.newPlot(                        \"ed1c3220-b928-462e-bf3a-a68c9f0dc1cc\",                        [{\"name\":\"KT\",\"type\":\"bar\",\"x\":[\"\\uac15\\uc6d0\\ub3c4\",\"\\uacbd\\uae30\\ub3c4\",\"\\uacbd\\uc0c1\\ub0a8\\ub3c4\",\"\\uacbd\\uc0c1\\ubd81\\ub3c4\",\"\\uad11\\uc8fc\\uad11\\uc5ed\\uc2dc\",\"\\ub300\\uad6c\\uad11\\uc5ed\\uc2dc\",\"\\ub300\\uc804\\uad11\\uc5ed\\uc2dc\",\"\\ubd80\\uc0b0\\uad11\\uc5ed\\uc2dc\",\"\\uc11c\\uc6b8\\ud2b9\\ubcc4\\uc2dc\",\"\\uc138\\uc885\\ud2b9\\ubcc4\\uc790\\uce58\\uc2dc\",\"\\uc6b8\\uc0b0\\uad11\\uc5ed\\uc2dc\",\"\\uc778\\ucc9c\\uad11\\uc5ed\\uc2dc\",\"\\uc804\\ub77c\\ub0a8\\ub3c4\",\"\\uc804\\ub77c\\ubd81\\ub3c4\",\"\\uc81c\\uc8fc\\ud2b9\\ubcc4\\uc790\\uce58\\ub3c4\",\"\\ucda9\\uccad\\ub0a8\\ub3c4\",\"\\ucda9\\uccad\\ubd81\\ub3c4\"],\"y\":[972,911,375,421,251,213,120,427,116,0,185,696,1205,578,500,629,572]},{\"name\":\"SKT\",\"type\":\"bar\",\"x\":[\"\\uac15\\uc6d0\\ub3c4\",\"\\uacbd\\uae30\\ub3c4\",\"\\uacbd\\uc0c1\\ub0a8\\ub3c4\",\"\\uacbd\\uc0c1\\ubd81\\ub3c4\",\"\\uad11\\uc8fc\\uad11\\uc5ed\\uc2dc\",\"\\ub300\\uad6c\\uad11\\uc5ed\\uc2dc\",\"\\ub300\\uc804\\uad11\\uc5ed\\uc2dc\",\"\\ubd80\\uc0b0\\uad11\\uc5ed\\uc2dc\",\"\\uc11c\\uc6b8\\ud2b9\\ubcc4\\uc2dc\",\"\\uc138\\uc885\\ud2b9\\ubcc4\\uc790\\uce58\\uc2dc\",\"\\uc6b8\\uc0b0\\uad11\\uc5ed\\uc2dc\",\"\\uc778\\ucc9c\\uad11\\uc5ed\\uc2dc\",\"\\uc804\\ub77c\\ub0a8\\ub3c4\",\"\\uc804\\ub77c\\ubd81\\ub3c4\",\"\\ucda9\\uccad\\ub0a8\\ub3c4\",\"\\ucda9\\uccad\\ubd81\\ub3c4\"],\"y\":[357,167,93,186,269,165,84,405,32,0,176,369,245,220,175,151]},{\"name\":\"LGU+\",\"type\":\"bar\",\"x\":[\"\\uac15\\uc6d0\\ub3c4\",\"\\uacbd\\uae30\\ub3c4\",\"\\uacbd\\uc0c1\\ub0a8\\ub3c4\",\"\\uacbd\\uc0c1\\ubd81\\ub3c4\",\"\\uad11\\uc8fc\\uad11\\uc5ed\\uc2dc\",\"\\ub300\\uad6c\\uad11\\uc5ed\\uc2dc\",\"\\ub300\\uc804\\uad11\\uc5ed\\uc2dc\",\"\\ubd80\\uc0b0\\uad11\\uc5ed\\uc2dc\",\"\\uc11c\\uc6b8\\ud2b9\\ubcc4\\uc2dc\",\"\\uc138\\uc885\\ud2b9\\ubcc4\\uc790\\uce58\\uc2dc\",\"\\uc6b8\\uc0b0\\uad11\\uc5ed\\uc2dc\",\"\\uc778\\ucc9c\\uad11\\uc5ed\\uc2dc\",\"\\uc804\\ub77c\\ub0a8\\ub3c4\",\"\\uc804\\ub77c\\ubd81\\ub3c4\",\"\\ucda9\\uccad\\ub0a8\\ub3c4\",\"\\ucda9\\uccad\\ubd81\\ub3c4\"],\"y\":[218,226,108,111,285,197,86,335,133,0,136,404,169,174,127,106]}],                        {\"barmode\":\"stack\",\"template\":{\"data\":{\"bar\":[{\"error_x\":{\"color\":\"#2a3f5f\"},\"error_y\":{\"color\":\"#2a3f5f\"},\"marker\":{\"line\":{\"color\":\"#E5ECF6\",\"width\":0.5},\"pattern\":{\"fillmode\":\"overlay\",\"size\":10,\"solidity\":0.2}},\"type\":\"bar\"}],\"barpolar\":[{\"marker\":{\"line\":{\"color\":\"#E5ECF6\",\"width\":0.5},\"pattern\":{\"fillmode\":\"overlay\",\"size\":10,\"solidity\":0.2}},\"type\":\"barpolar\"}],\"carpet\":[{\"aaxis\":{\"endlinecolor\":\"#2a3f5f\",\"gridcolor\":\"white\",\"linecolor\":\"white\",\"minorgridcolor\":\"white\",\"startlinecolor\":\"#2a3f5f\"},\"baxis\":{\"endlinecolor\":\"#2a3f5f\",\"gridcolor\":\"white\",\"linecolor\":\"white\",\"minorgridcolor\":\"white\",\"startlinecolor\":\"#2a3f5f\"},\"type\":\"carpet\"}],\"choropleth\":[{\"colorbar\":{\"outlinewidth\":0,\"ticks\":\"\"},\"type\":\"choropleth\"}],\"contour\":[{\"colorbar\":{\"outlinewidth\":0,\"ticks\":\"\"},\"colorscale\":[[0.0,\"#0d0887\"],[0.1111111111111111,\"#46039f\"],[0.2222222222222222,\"#7201a8\"],[0.3333333333333333,\"#9c179e\"],[0.4444444444444444,\"#bd3786\"],[0.5555555555555556,\"#d8576b\"],[0.6666666666666666,\"#ed7953\"],[0.7777777777777778,\"#fb9f3a\"],[0.8888888888888888,\"#fdca26\"],[1.0,\"#f0f921\"]],\"type\":\"contour\"}],\"contourcarpet\":[{\"colorbar\":{\"outlinewidth\":0,\"ticks\":\"\"},\"type\":\"contourcarpet\"}],\"heatmap\":[{\"colorbar\":{\"outlinewidth\":0,\"ticks\":\"\"},\"colorscale\":[[0.0,\"#0d0887\"],[0.1111111111111111,\"#46039f\"],[0.2222222222222222,\"#7201a8\"],[0.3333333333333333,\"#9c179e\"],[0.4444444444444444,\"#bd3786\"],[0.5555555555555556,\"#d8576b\"],[0.6666666666666666,\"#ed7953\"],[0.7777777777777778,\"#fb9f3a\"],[0.8888888888888888,\"#fdca26\"],[1.0,\"#f0f921\"]],\"type\":\"heatmap\"}],\"heatmapgl\":[{\"colorbar\":{\"outlinewidth\":0,\"ticks\":\"\"},\"colorscale\":[[0.0,\"#0d0887\"],[0.1111111111111111,\"#46039f\"],[0.2222222222222222,\"#7201a8\"],[0.3333333333333333,\"#9c179e\"],[0.4444444444444444,\"#bd3786\"],[0.5555555555555556,\"#d8576b\"],[0.6666666666666666,\"#ed7953\"],[0.7777777777777778,\"#fb9f3a\"],[0.8888888888888888,\"#fdca26\"],[1.0,\"#f0f921\"]],\"type\":\"heatmapgl\"}],\"histogram\":[{\"marker\":{\"pattern\":{\"fillmode\":\"overlay\",\"size\":10,\"solidity\":0.2}},\"type\":\"histogram\"}],\"histogram2d\":[{\"colorbar\":{\"outlinewidth\":0,\"ticks\":\"\"},\"colorscale\":[[0.0,\"#0d0887\"],[0.1111111111111111,\"#46039f\"],[0.2222222222222222,\"#7201a8\"],[0.3333333333333333,\"#9c179e\"],[0.4444444444444444,\"#bd3786\"],[0.5555555555555556,\"#d8576b\"],[0.6666666666666666,\"#ed7953\"],[0.7777777777777778,\"#fb9f3a\"],[0.8888888888888888,\"#fdca26\"],[1.0,\"#f0f921\"]],\"type\":\"histogram2d\"}],\"histogram2dcontour\":[{\"colorbar\":{\"outlinewidth\":0,\"ticks\":\"\"},\"colorscale\":[[0.0,\"#0d0887\"],[0.1111111111111111,\"#46039f\"],[0.2222222222222222,\"#7201a8\"],[0.3333333333333333,\"#9c179e\"],[0.4444444444444444,\"#bd3786\"],[0.5555555555555556,\"#d8576b\"],[0.6666666666666666,\"#ed7953\"],[0.7777777777777778,\"#fb9f3a\"],[0.8888888888888888,\"#fdca26\"],[1.0,\"#f0f921\"]],\"type\":\"histogram2dcontour\"}],\"mesh3d\":[{\"colorbar\":{\"outlinewidth\":0,\"ticks\":\"\"},\"type\":\"mesh3d\"}],\"parcoords\":[{\"line\":{\"colorbar\":{\"outlinewidth\":0,\"ticks\":\"\"}},\"type\":\"parcoords\"}],\"pie\":[{\"automargin\":true,\"type\":\"pie\"}],\"scatter\":[{\"marker\":{\"colorbar\":{\"outlinewidth\":0,\"ticks\":\"\"}},\"type\":\"scatter\"}],\"scatter3d\":[{\"line\":{\"colorbar\":{\"outlinewidth\":0,\"ticks\":\"\"}},\"marker\":{\"colorbar\":{\"outlinewidth\":0,\"ticks\":\"\"}},\"type\":\"scatter3d\"}],\"scattercarpet\":[{\"marker\":{\"colorbar\":{\"outlinewidth\":0,\"ticks\":\"\"}},\"type\":\"scattercarpet\"}],\"scattergeo\":[{\"marker\":{\"colorbar\":{\"outlinewidth\":0,\"ticks\":\"\"}},\"type\":\"scattergeo\"}],\"scattergl\":[{\"marker\":{\"colorbar\":{\"outlinewidth\":0,\"ticks\":\"\"}},\"type\":\"scattergl\"}],\"scattermapbox\":[{\"marker\":{\"colorbar\":{\"outlinewidth\":0,\"ticks\":\"\"}},\"type\":\"scattermapbox\"}],\"scatterpolar\":[{\"marker\":{\"colorbar\":{\"outlinewidth\":0,\"ticks\":\"\"}},\"type\":\"scatterpolar\"}],\"scatterpolargl\":[{\"marker\":{\"colorbar\":{\"outlinewidth\":0,\"ticks\":\"\"}},\"type\":\"scatterpolargl\"}],\"scatterternary\":[{\"marker\":{\"colorbar\":{\"outlinewidth\":0,\"ticks\":\"\"}},\"type\":\"scatterternary\"}],\"surface\":[{\"colorbar\":{\"outlinewidth\":0,\"ticks\":\"\"},\"colorscale\":[[0.0,\"#0d0887\"],[0.1111111111111111,\"#46039f\"],[0.2222222222222222,\"#7201a8\"],[0.3333333333333333,\"#9c179e\"],[0.4444444444444444,\"#bd3786\"],[0.5555555555555556,\"#d8576b\"],[0.6666666666666666,\"#ed7953\"],[0.7777777777777778,\"#fb9f3a\"],[0.8888888888888888,\"#fdca26\"],[1.0,\"#f0f921\"]],\"type\":\"surface\"}],\"table\":[{\"cells\":{\"fill\":{\"color\":\"#EBF0F8\"},\"line\":{\"color\":\"white\"}},\"header\":{\"fill\":{\"color\":\"#C8D4E3\"},\"line\":{\"color\":\"white\"}},\"type\":\"table\"}]},\"layout\":{\"annotationdefaults\":{\"arrowcolor\":\"#2a3f5f\",\"arrowhead\":0,\"arrowwidth\":1},\"autotypenumbers\":\"strict\",\"coloraxis\":{\"colorbar\":{\"outlinewidth\":0,\"ticks\":\"\"}},\"colorscale\":{\"diverging\":[[0,\"#8e0152\"],[0.1,\"#c51b7d\"],[0.2,\"#de77ae\"],[0.3,\"#f1b6da\"],[0.4,\"#fde0ef\"],[0.5,\"#f7f7f7\"],[0.6,\"#e6f5d0\"],[0.7,\"#b8e186\"],[0.8,\"#7fbc41\"],[0.9,\"#4d9221\"],[1,\"#276419\"]],\"sequential\":[[0.0,\"#0d0887\"],[0.1111111111111111,\"#46039f\"],[0.2222222222222222,\"#7201a8\"],[0.3333333333333333,\"#9c179e\"],[0.4444444444444444,\"#bd3786\"],[0.5555555555555556,\"#d8576b\"],[0.6666666666666666,\"#ed7953\"],[0.7777777777777778,\"#fb9f3a\"],[0.8888888888888888,\"#fdca26\"],[1.0,\"#f0f921\"]],\"sequentialminus\":[[0.0,\"#0d0887\"],[0.1111111111111111,\"#46039f\"],[0.2222222222222222,\"#7201a8\"],[0.3333333333333333,\"#9c179e\"],[0.4444444444444444,\"#bd3786\"],[0.5555555555555556,\"#d8576b\"],[0.6666666666666666,\"#ed7953\"],[0.7777777777777778,\"#fb9f3a\"],[0.8888888888888888,\"#fdca26\"],[1.0,\"#f0f921\"]]},\"colorway\":[\"#636efa\",\"#EF553B\",\"#00cc96\",\"#ab63fa\",\"#FFA15A\",\"#19d3f3\",\"#FF6692\",\"#B6E880\",\"#FF97FF\",\"#FECB52\"],\"font\":{\"color\":\"#2a3f5f\"},\"geo\":{\"bgcolor\":\"white\",\"lakecolor\":\"white\",\"landcolor\":\"#E5ECF6\",\"showlakes\":true,\"showland\":true,\"subunitcolor\":\"white\"},\"hoverlabel\":{\"align\":\"left\"},\"hovermode\":\"closest\",\"mapbox\":{\"style\":\"light\"},\"paper_bgcolor\":\"white\",\"plot_bgcolor\":\"#E5ECF6\",\"polar\":{\"angularaxis\":{\"gridcolor\":\"white\",\"linecolor\":\"white\",\"ticks\":\"\"},\"bgcolor\":\"#E5ECF6\",\"radialaxis\":{\"gridcolor\":\"white\",\"linecolor\":\"white\",\"ticks\":\"\"}},\"scene\":{\"xaxis\":{\"backgroundcolor\":\"#E5ECF6\",\"gridcolor\":\"white\",\"gridwidth\":2,\"linecolor\":\"white\",\"showbackground\":true,\"ticks\":\"\",\"zerolinecolor\":\"white\"},\"yaxis\":{\"backgroundcolor\":\"#E5ECF6\",\"gridcolor\":\"white\",\"gridwidth\":2,\"linecolor\":\"white\",\"showbackground\":true,\"ticks\":\"\",\"zerolinecolor\":\"white\"},\"zaxis\":{\"backgroundcolor\":\"#E5ECF6\",\"gridcolor\":\"white\",\"gridwidth\":2,\"linecolor\":\"white\",\"showbackground\":true,\"ticks\":\"\",\"zerolinecolor\":\"white\"}},\"shapedefaults\":{\"line\":{\"color\":\"#2a3f5f\"}},\"ternary\":{\"aaxis\":{\"gridcolor\":\"white\",\"linecolor\":\"white\",\"ticks\":\"\"},\"baxis\":{\"gridcolor\":\"white\",\"linecolor\":\"white\",\"ticks\":\"\"},\"bgcolor\":\"#E5ECF6\",\"caxis\":{\"gridcolor\":\"white\",\"linecolor\":\"white\",\"ticks\":\"\"}},\"title\":{\"x\":0.05},\"xaxis\":{\"automargin\":true,\"gridcolor\":\"white\",\"linecolor\":\"white\",\"ticks\":\"\",\"title\":{\"standoff\":15},\"zerolinecolor\":\"white\",\"zerolinewidth\":2},\"yaxis\":{\"automargin\":true,\"gridcolor\":\"white\",\"linecolor\":\"white\",\"ticks\":\"\",\"title\":{\"standoff\":15},\"zerolinecolor\":\"white\",\"zerolinewidth\":2}}},\"title\":{\"text\":\"\\uc9c0\\uc5ed\\ubcc4 \\uc81c\\uacf5\\uc0ac \\ube44\\uad50\"}},                        {\"responsive\": true}                    ).then(function(){\n",
       "                            \n",
       "var gd = document.getElementById('ed1c3220-b928-462e-bf3a-a68c9f0dc1cc');\n",
       "var x = new MutationObserver(function (mutations, observer) {{\n",
       "        var display = window.getComputedStyle(gd).display;\n",
       "        if (!display || display === 'none') {{\n",
       "            console.log([gd, 'removed!']);\n",
       "            Plotly.purge(gd);\n",
       "            observer.disconnect();\n",
       "        }}\n",
       "}});\n",
       "\n",
       "// Listen for the removal of the full notebook cells\n",
       "var notebookContainer = gd.closest('#notebook-container');\n",
       "if (notebookContainer) {{\n",
       "    x.observe(notebookContainer, {childList: true});\n",
       "}}\n",
       "\n",
       "// Listen for the clearing of the current output cell\n",
       "var outputEl = gd.closest('.output');\n",
       "if (outputEl) {{\n",
       "    x.observe(outputEl, {childList: true});\n",
       "}}\n",
       "\n",
       "                        })                };                });            </script>        </div>"
      ]
     },
     "metadata": {},
     "output_type": "display_data"
    }
   ],
   "source": [
    "#제일 유명한 KT, SKT, LGU+ 만\n",
    "\n",
    "trace3 = go.Bar(x= tel3[tel3['서비스제공사명'] == 'KT'].설치시도명, y=tel3[tel3['서비스제공사명'] == 'KT'].수, name='KT')\n",
    "trace4 = go.Bar(x= tel3[tel3['서비스제공사명'] == 'SKT'].설치시도명, y=tel3[tel3['서비스제공사명'] == 'SKT'].수, name='SKT')\n",
    "trace5 = go.Bar(x= tel3[tel3['서비스제공사명'] == 'LGU+'].설치시도명, y=tel3[tel3['서비스제공사명'] == 'LGU+'].수, name='LGU+')\n",
    "\n",
    "data = [trace3, trace4, trace5]\n",
    "\n",
    "fig.update_layout(title='지역별 제공사 비교',barmode='stack')\n",
    "\n",
    "\n",
    "pyo.iplot(fig)"
   ]
  },
  {
   "cell_type": "code",
   "execution_count": null,
   "id": "5cc9730e",
   "metadata": {},
   "outputs": [],
   "source": [
    "# 내 예상과는 다르게 전남에 세 통신사의 수가 많다. 또한 제주도는 KT만 있다. 이유가 있나?\n",
    "# 서울시가 제일 수가 적으며,세종시에는 아예 없다."
   ]
  },
  {
   "cell_type": "markdown",
   "id": "e8b5215c",
   "metadata": {},
   "source": [
    "## 서울특별시만 확인"
   ]
  },
  {
   "cell_type": "code",
   "execution_count": null,
   "id": "7994c8db",
   "metadata": {},
   "outputs": [],
   "source": [
    "## 세"
   ]
  },
  {
   "cell_type": "code",
   "execution_count": null,
   "id": "41bbca15",
   "metadata": {},
   "outputs": [],
   "source": []
  },
  {
   "cell_type": "code",
   "execution_count": null,
   "id": "cb13ee91",
   "metadata": {},
   "outputs": [],
   "source": []
  },
  {
   "cell_type": "code",
   "execution_count": null,
   "id": "79f2a120",
   "metadata": {},
   "outputs": [],
   "source": []
  }
 ],
 "metadata": {
  "kernelspec": {
   "display_name": "Python 3",
   "language": "python",
   "name": "python3"
  },
  "language_info": {
   "codemirror_mode": {
    "name": "ipython",
    "version": 3
   },
   "file_extension": ".py",
   "mimetype": "text/x-python",
   "name": "python",
   "nbconvert_exporter": "python",
   "pygments_lexer": "ipython3",
   "version": "3.8.8"
  },
  "toc": {
   "base_numbering": 1,
   "nav_menu": {},
   "number_sections": true,
   "sideBar": true,
   "skip_h1_title": false,
   "title_cell": "Table of Contents",
   "title_sidebar": "Contents",
   "toc_cell": false,
   "toc_position": {
    "height": "calc(100% - 180px)",
    "left": "10px",
    "top": "150px",
    "width": "341.333px"
   },
   "toc_section_display": true,
   "toc_window_display": false
  }
 },
 "nbformat": 4,
 "nbformat_minor": 5
}
